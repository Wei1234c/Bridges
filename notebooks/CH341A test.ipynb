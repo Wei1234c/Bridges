{
 "cells": [
  {
   "cell_type": "markdown",
   "metadata": {},
   "source": [
    "# ch341AA test\n",
    "https://github.com/boseji/ch341A-Store \n",
    "https://edoc.site/ch341Aa-datasheet-pdf-free.html  \n",
    "http://www.wch.cn/search?q=ch341A&t=downloads   \n",
    "http://www.anok.ceti.pl/download/ch341Ads1.pdf  \n",
    "http://www.winchiphead.com/download/ch341A/ch341ADS1.PDF  \n",
    "http://www.wch.cn/search?q=USB%E8%BD%AC%E4%B8%B2%E5%8F%A3&t=all  \n",
    "\n",
    "https://www.onetransistor.eu/2017/09/ch341Aa-usb-i2c-programming.html  \n",
    "https://www.onetransistor.eu/2017/12/ch341Aa-usb-spi-programming.html  \n",
    "\n",
    "https://www.googlecraft.com/usb-serial-ch341A-drivers-download-arduino-uno-r3-clone-ch340-ch341A-usb-driver/  \n",
    "\n",
    "\n",
    "https://github.com/karlp/ch341A-py2c  \n",
    "\n",
    "http://patrickelectric.work/ch341Aa-dongle/  \n",
    "https://hackaday.com/2018/02/21/linux-adds-ch341A-gpio/  \n",
    "http://patrickelectric.work/assets/ch341Aa_dongle/ch341ADS1.pdf  \n",
    "https://www.onetransistor.eu/2017/09/ch341Aa-usb-i2c-programming.html  \n",
    "http://www.zoobab.com/ch341A-usb-spi-i2c-uart-isp-dongle#toc3  \n",
    "https://blog.danman.eu/ch341Aa-usb-serial-eeprom-reader-under-linux/  \n",
    "http://www.zoobab.com/ch341A-usb-spi-i2c-uart-isp-dongle#toc0  "
   ]
  },
  {
   "cell_type": "markdown",
   "metadata": {},
   "source": [
    "https://pypi.org/project/pyusbiss/  \n",
    "https://github.com/DancingQuanta/pyusbiss  \n",
    "https://www.robot-electronics.co.uk/htm/usb_iss_tech.htm  \n",
    "https://github.com/sneakypete81/usb_iss  \n",
    "https://docs.onion.io/omega2-docs/spi-python-module.html  \n",
    "https://github.com/OnionIoT/spi-gpio-driver  \n",
    "https://code.google.com/archive/p/usb2i2c/  \n",
    "https://github.com/sneakypete81/usb_iss/tree/master/src/usb_iss  \n"
   ]
  },
  {
   "cell_type": "markdown",
   "metadata": {},
   "source": [
    "### 需安裝\n",
    "\n",
    "```\n",
    "pip install pyusb\n",
    "\n",
    "```\n",
    "\n",
    "### Windows DLL\n",
    "[libusb-win32-devel-filter-1.2.6.0.exe](https://sourceforge.net/projects/libusb-win32/files/libusb-win32-releases/1.2.6.0/)  \n",
    "\n",
    "https://sourceforge.net/projects/libusb-win32/  \n",
    "\n",
    "\n",
    "\n",
    "### Linux 權限\n",
    "https://ubuntuforums.org/showthread.php?t=1682084  \n",
    "https://linuxconfig.org/tutorial-on-how-to-write-basic-udev-rules-in-linux  \n",
    "```\n",
    "If anyone is interested.. fixed with udev rule:\n",
    "\n",
    "cd /etc/udev/rules.d/\n",
    "\n",
    "sudo nano 70-usb.rules\n",
    "\n",
    "SUBSYSTEM==\"usb\", ATTRS{idVendor}==\"1a86\", GROUP=\"dialout\", MODE=\"666\" \n",
    "SUBSYSTEM==\"usb\", ATTRS{idVendor}==\"0403\", GROUP=\"dialout\", MODE=\"666\" \n",
    "\n",
    "then reloaded udev rules:\n",
    "\n",
    "sudo udevadm control --reload-rules  \n",
    "sudo udevadm trigger\n",
    "\n",
    "```"
   ]
  },
  {
   "cell_type": "markdown",
   "metadata": {},
   "source": [
    "### 安裝步驟\n",
    "\n",
    "- 安裝 PyUSB\n",
    "```\n",
    "pip install pyusb\n",
    "``` \n",
    "\n",
    "- 安裝 ch341AA driver:\n",
    "    - http://www.wch.cn/downloads/ch341ASER_EXE.html\n",
    "    - http://www.wch.cn/downloads/ch341APAR_EXE.html\n",
    "\n",
    "- 安裝 [libusb-win32-devel-filter](https://sourceforge.net/projects/libusb-win32/)\n",
    "    - [libusb-win32-devel-filter-1.2.6.0.exe](https://sourceforge.net/projects/libusb-win32/files/libusb-win32-releases/1.2.6.0/) \n",
    "\n",
    "- 使用 libUSB-Win32, install all class filters  "
   ]
  },
  {
   "cell_type": "code",
   "execution_count": 1,
   "metadata": {},
   "outputs": [
    {
     "name": "stdout",
     "output_type": "stream",
     "text": [
      "Populating the interactive namespace from numpy and matplotlib\n"
     ]
    }
   ],
   "source": [
    "%pylab inline  \n",
    "\n",
    "import os\n",
    "import sys\n",
    "\n",
    "sys.path.append(os.path.abspath(os.path.join('..', 'codes')))\n",
    "\n",
    "path = os.sep.join(['..', '..', '..', '..', '..', '待處理', 'ORM', 'bitbucket', 'github', 'codes'])\n",
    "sys.path.append(path) \n",
    "\n",
    "path = os.sep.join(['..', '..', '..', '..', '..', '待處理', 'USB', 'Universal Serial Bus', 'bitbucket', 'github', 'codes'])\n",
    "sys.path.append(path)\n",
    "\n",
    "import universal_serial_bus\n",
    "from universal_serial_bus import *  \n",
    "from bridges.ch341A import *\n",
    "from pprint import pprint"
   ]
  },
  {
   "cell_type": "code",
   "execution_count": 2,
   "metadata": {
    "scrolled": false
   },
   "outputs": [
    {
     "name": "stdout",
     "output_type": "stream",
     "text": [
      "DEVICE ID 04f2:b57e on Bus 000 Address 001\n",
      "DEVICE ID 04f2:b57e on Bus 000 Address 002\n",
      "DEVICE ID 046d:c52b on Bus 000 Address 003\n",
      "DEVICE ID 046d:c52b on Bus 000 Address 005\n",
      "DEVICE ID 046d:c52b on Bus 000 Address 006\n",
      "DEVICE ID 046d:c52b on Bus 000 Address 007\n",
      "DEVICE ID 1b3f:2008 on Bus 000 Address 008\n",
      "DEVICE ID 1b3f:2008 on Bus 000 Address 009\n",
      "DEVICE ID 1b3f:2008 on Bus 000 Address 010\n"
     ]
    }
   ],
   "source": [
    "devs = CH341A.scan_usb_bus()"
   ]
  },
  {
   "cell_type": "code",
   "execution_count": 3,
   "metadata": {},
   "outputs": [
    {
     "name": "stdout",
     "output_type": "stream",
     "text": [
      "DEVICE ID 1a86:5512 on Bus 000 Address 005 =================\n",
      " bLength                :   0x12 (18 bytes)\n",
      " bDescriptorType        :    0x1 Device\n",
      " bcdUSB                 :  0x110 USB 1.1\n",
      " bDeviceClass           :   0xff Vendor-specific\n",
      " bDeviceSubClass        :    0x0\n",
      " bDeviceProtocol        :    0x2\n",
      " bMaxPacketSize0        :    0x8 (8 bytes)\n",
      " idVendor               : 0x1a86\n",
      " idProduct              : 0x5512\n",
      " bcdDevice              :  0x304 Device 3.04\n",
      " iManufacturer          :    0x0 \n",
      " iProduct               :    0x0 \n",
      " iSerialNumber          :    0x0 \n",
      " bNumConfigurations     :    0x1\n",
      "  CONFIGURATION 1: 96 mA ===================================\n",
      "   bLength              :    0x9 (9 bytes)\n",
      "   bDescriptorType      :    0x2 Configuration\n",
      "   wTotalLength         :   0x27 (39 bytes)\n",
      "   bNumInterfaces       :    0x1\n",
      "   bConfigurationValue  :    0x1\n",
      "   iConfiguration       :    0x0 \n",
      "   bmAttributes         :   0x80 Bus Powered\n",
      "   bMaxPower            :   0x30 (96 mA)\n",
      "    INTERFACE 0: Vendor Specific ===========================\n",
      "     bLength            :    0x9 (9 bytes)\n",
      "     bDescriptorType    :    0x4 Interface\n",
      "     bInterfaceNumber   :    0x0\n",
      "     bAlternateSetting  :    0x0\n",
      "     bNumEndpoints      :    0x3\n",
      "     bInterfaceClass    :   0xff Vendor Specific\n",
      "     bInterfaceSubClass :    0x1\n",
      "     bInterfaceProtocol :    0x2\n",
      "     iInterface         :    0x0 \n",
      "      ENDPOINT 0x82: Bulk IN ===============================\n",
      "       bLength          :    0x7 (7 bytes)\n",
      "       bDescriptorType  :    0x5 Endpoint\n",
      "       bEndpointAddress :   0x82 IN\n",
      "       bmAttributes     :    0x2 Bulk\n",
      "       wMaxPacketSize   :   0x20 (32 bytes)\n",
      "       bInterval        :    0x0\n",
      "      ENDPOINT 0x2: Bulk OUT ===============================\n",
      "       bLength          :    0x7 (7 bytes)\n",
      "       bDescriptorType  :    0x5 Endpoint\n",
      "       bEndpointAddress :    0x2 OUT\n",
      "       bmAttributes     :    0x2 Bulk\n",
      "       wMaxPacketSize   :   0x20 (32 bytes)\n",
      "       bInterval        :    0x0\n",
      "      ENDPOINT 0x81: Interrupt IN ==========================\n",
      "       bLength          :    0x7 (7 bytes)\n",
      "       bDescriptorType  :    0x5 Endpoint\n",
      "       bEndpointAddress :   0x81 IN\n",
      "       bmAttributes     :    0x3 Interrupt\n",
      "       wMaxPacketSize   :    0x8 (8 bytes)\n",
      "       bInterval        :    0x1\n"
     ]
    }
   ],
   "source": [
    "ch341A = CH341A()\n",
    "print(ch341A)"
   ]
  },
  {
   "cell_type": "code",
   "execution_count": 4,
   "metadata": {
    "scrolled": false
   },
   "outputs": [
    {
     "name": "stdout",
     "output_type": "stream",
     "text": [
      "    0  1  2  3  4  5  6  7  8  9  A  B  C  D  E  F \n",
      " 0: .  .  .  .  .  .  .  .  .  .  .  .  .  .  .  .\n",
      " 1: .  .  .  .  .  .  .  .  .  .  .  .  .  .  .  .\n",
      " 2: .  .  .  .  .  .  .  .  .  .  .  .  .  .  .  .\n",
      " 3: .  .  .  .  .  .  .  .  .  .  .  .  .  .  .  .\n",
      " 4: .  .  .  .  .  .  .  .  .  .  .  .  .  .  .  .\n",
      " 5: .  .  .  .  .  .  .  .  .  .  .  .  .  .  .  .\n",
      " 6: .  .  .  .  .  .  .  .  .  .  .  .  .  .  .  .\n",
      " 7: .  .  .  .  .  .  .  .  .\n",
      "\n",
      "Found devices at: []\n"
     ]
    }
   ],
   "source": [
    "i2c = ch341A.i2c\n",
    "i2c.scan()\n",
    "usb.util.dispose_resources(ch341A)"
   ]
  },
  {
   "cell_type": "markdown",
   "metadata": {},
   "source": [
    "### 建立 ch341A 物件"
   ]
  },
  {
   "cell_type": "code",
   "execution_count": 5,
   "metadata": {},
   "outputs": [],
   "source": [
    "ch341A = CH341A()"
   ]
  },
  {
   "cell_type": "markdown",
   "metadata": {},
   "source": [
    "### Standard Device Requests"
   ]
  },
  {
   "cell_type": "code",
   "execution_count": 6,
   "metadata": {},
   "outputs": [
    {
     "data": {
      "text/plain": [
       "array('B', [18, 1, 16, 1, 255, 0, 2, 8, 134, 26, 18, 85, 4, 3, 0, 0, 0, 1])"
      ]
     },
     "execution_count": 6,
     "metadata": {},
     "output_type": "execute_result"
    }
   ],
   "source": [
    "ch341A.control_read(bRequest = CONTROL_REQUEST.GET_DESCRIPTOR,\n",
    "                    wValue = DESCRIPTOR.TYPE.DEVICE << 8,\n",
    "                    type = CONTROL_REQUEST.TYPE.STANDARD)"
   ]
  },
  {
   "cell_type": "code",
   "execution_count": 7,
   "metadata": {},
   "outputs": [
    {
     "data": {
      "text/plain": [
       "array('B', [255, 239, 220, 12, 127, 2])"
      ]
     },
     "execution_count": 7,
     "metadata": {},
     "output_type": "execute_result"
    }
   ],
   "source": [
    "ch341A.control_read(bRequest = ch341A.REQUEST.GET_STATUS, \n",
    "                    wValue = DESCRIPTOR.TYPE.DEVICE << 8, \n",
    "                    wIndex = 0)"
   ]
  },
  {
   "cell_type": "code",
   "execution_count": 8,
   "metadata": {},
   "outputs": [
    {
     "data": {
      "text/plain": [
       "array('B', [255, 239, 236, 12, 127, 2])"
      ]
     },
     "execution_count": 8,
     "metadata": {},
     "output_type": "execute_result"
    }
   ],
   "source": [
    "ch341A.control_read(bRequest = ch341A.REQUEST.GET_STATUS)"
   ]
  },
  {
   "cell_type": "code",
   "execution_count": 9,
   "metadata": {},
   "outputs": [
    {
     "data": {
      "text/plain": [
       "array('B', [255, 239, 236, 12, 127, 2])"
      ]
     },
     "execution_count": 9,
     "metadata": {},
     "output_type": "execute_result"
    }
   ],
   "source": [
    "status = ch341A.control_read(bRequest = ch341A.REQUEST.GET_STATUS)\n",
    "status"
   ]
  },
  {
   "cell_type": "code",
   "execution_count": 10,
   "metadata": {},
   "outputs": [],
   "source": [
    "\n",
    "# class PinState:\n",
    "#     bits_map = (\n",
    "#     ('D0', 0), ('D1', 1), ('D2', 2), ('D3', 3), ('D4', 4), ('D5', 5), ('D6', 6), ('D7', 7), ('ERR', 8), ('PEMP', 9),\n",
    "#     ('INT', 10), ('SLCT', 11), ('SDA', 12), ('WAIT', 13), ('DATAS', 14), ('ADDRS', 15))\n",
    "\n",
    "\n",
    "#     def __init__(self, bits):\n",
    "\n",
    "#         if type(bits) != type(int):\n",
    "#             out = struct.unpack_from(\">IH\", bytearray(bits))\n",
    "#             bits = out[0]\n",
    "#         self.bits = bits\n",
    "\n",
    "\n",
    "#     @property\n",
    "#     def status(self):\n",
    "#         return {name : 1 if self.bits & (1 << pin) else 0  for name, pin in self.bits_map}\n",
    "\n",
    "\n",
    "#     def __str__(self):\n",
    "#         return 'Pins Status:\\n' + ''.join(['  {:<6}: {:>2}\\n'.format(name, status) for name, status in self.status.items()])\n",
    "\n",
    "# print(PinState(status))"
   ]
  },
  {
   "cell_type": "code",
   "execution_count": 11,
   "metadata": {},
   "outputs": [
    {
     "name": "stdout",
     "output_type": "stream",
     "text": [
      "Pins Status:\n",
      "  D0    :  0\n",
      "  D1    :  0\n",
      "  D2    :  1\n",
      "  D3    :  1\n",
      "  D4    :  0\n",
      "  D5    :  0\n",
      "  D6    :  0\n",
      "  D7    :  0\n",
      "  ERR   :  0\n",
      "  PEMP  :  0\n",
      "  INT   :  1\n",
      "  SLCT  :  1\n",
      "  WAIT  :  0\n",
      "  DATAS :  1\n",
      "  ADDRS :  1\n",
      "  RESET :  1\n",
      "  WRITE :  1\n",
      "  SCL   :  1\n",
      "  SDA   :  1\n",
      "\n"
     ]
    }
   ],
   "source": [
    "print(ch341A.status)"
   ]
  },
  {
   "cell_type": "code",
   "execution_count": 12,
   "metadata": {},
   "outputs": [
    {
     "name": "stdout",
     "output_type": "stream",
     "text": [
      "48.0\n"
     ]
    }
   ],
   "source": [
    "print(ch341A.version)"
   ]
  },
  {
   "cell_type": "code",
   "execution_count": 13,
   "metadata": {},
   "outputs": [
    {
     "data": {
      "text/plain": [
       "<bridges.ch341A.CH341A.PinState at 0x1c043f9ffd0>"
      ]
     },
     "execution_count": 13,
     "metadata": {},
     "output_type": "execute_result"
    }
   ],
   "source": [
    "ch341A.status"
   ]
  },
  {
   "cell_type": "code",
   "execution_count": 14,
   "metadata": {},
   "outputs": [
    {
     "data": {
      "text/plain": [
       "0"
      ]
     },
     "execution_count": 14,
     "metadata": {},
     "output_type": "execute_result"
    }
   ],
   "source": [
    "ch341A.get_pin_status('ERR')"
   ]
  },
  {
   "cell_type": "code",
   "execution_count": 15,
   "metadata": {},
   "outputs": [
    {
     "data": {
      "text/plain": [
       "0"
      ]
     },
     "execution_count": 15,
     "metadata": {},
     "output_type": "execute_result"
    }
   ],
   "source": [
    "ch341A.get_pin_status('D1')"
   ]
  },
  {
   "cell_type": "code",
   "execution_count": 16,
   "metadata": {},
   "outputs": [
    {
     "data": {
      "text/plain": [
       "array('B', [48, 0])"
      ]
     },
     "execution_count": 16,
     "metadata": {},
     "output_type": "execute_result"
    }
   ],
   "source": [
    "ch341A.control_read(ch341A.REQUEST.GET_VERSION, 0, 0, 2)"
   ]
  },
  {
   "cell_type": "code",
   "execution_count": 17,
   "metadata": {},
   "outputs": [],
   "source": [
    "mask = 0x3F\n",
    "ch341A.set_D5_D0(iSetDirOut = mask, iSetDataOut = mask) "
   ]
  },
  {
   "cell_type": "code",
   "execution_count": 18,
   "metadata": {},
   "outputs": [],
   "source": [
    "ch341A.set_D5_D0()"
   ]
  },
  {
   "cell_type": "code",
   "execution_count": 19,
   "metadata": {},
   "outputs": [],
   "source": [
    "ch341A.set_output2(output_pins = ['D5'], high_pins = ['D5'])"
   ]
  },
  {
   "cell_type": "code",
   "execution_count": 20,
   "metadata": {},
   "outputs": [],
   "source": [
    "ch341A.set_output2(output_pins = ['D7'], high_pins = ['D7'])"
   ]
  },
  {
   "cell_type": "code",
   "execution_count": 21,
   "metadata": {},
   "outputs": [],
   "source": [
    "usb.util.dispose_resources(ch341A)"
   ]
  }
 ],
 "metadata": {
  "kernelspec": {
   "display_name": "Python 3",
   "language": "python",
   "name": "python3"
  },
  "language_info": {
   "codemirror_mode": {
    "name": "ipython",
    "version": 3
   },
   "file_extension": ".py",
   "mimetype": "text/x-python",
   "name": "python",
   "nbconvert_exporter": "python",
   "pygments_lexer": "ipython3",
   "version": "3.6.9"
  }
 },
 "nbformat": 4,
 "nbformat_minor": 2
}
