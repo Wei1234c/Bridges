{
 "cells": [
  {
   "cell_type": "markdown",
   "metadata": {},
   "source": [
    "# Read And Decode Data From Mouse\n",
    "https://www.orangecoat.com/how-to/read-and-decode-data-from-your-mouse-using-this-pyusb-hack  "
   ]
  },
  {
   "cell_type": "code",
   "execution_count": 1,
   "metadata": {},
   "outputs": [
    {
     "name": "stdout",
     "output_type": "stream",
     "text": [
      "Populating the interactive namespace from numpy and matplotlib\n"
     ]
    }
   ],
   "source": [
    "%pylab inline  \n",
    "\n",
    "# import usb.core\n",
    "# import usb.util "
   ]
  },
  {
   "cell_type": "code",
   "execution_count": 2,
   "metadata": {},
   "outputs": [],
   "source": [
    "import os\n",
    "import sys\n",
    "sys.path.append(os.path.abspath(os.path.join('..', 'codes')))\n",
    "\n",
    "path = os.sep.join(['..', '..', '..', '..', '..', '待處理', 'ORM', 'bitbucket', 'github', 'codes'])\n",
    "sys.path.append(path) \n",
    "\n",
    "path = os.sep.join(['..', '..', '..', '..', '..', '待處理', 'USB', 'Universal Serial Bus', 'bitbucket', 'github', 'codes'])\n",
    "sys.path.append(path) \n",
    "\n",
    "import universal_serial_bus\n",
    "from universal_serial_bus import *\n",
    "\n",
    "from bridges import *\n",
    "from pprint import pprint"
   ]
  },
  {
   "cell_type": "markdown",
   "metadata": {},
   "source": [
    "### 掃描 USB 裝置"
   ]
  },
  {
   "cell_type": "markdown",
   "metadata": {},
   "source": [
    "### device"
   ]
  },
  {
   "cell_type": "code",
   "execution_count": 3,
   "metadata": {
    "scrolled": false
   },
   "outputs": [],
   "source": [
    "# _ = USBdevice.scan_usb_bus(full = True)"
   ]
  },
  {
   "cell_type": "code",
   "execution_count": 4,
   "metadata": {},
   "outputs": [
    {
     "data": {
      "text/plain": [
       "[<DEVICE ID 046d:c52b on Bus 000 Address 002>,\n",
       " <DEVICE ID 046d:c52b on Bus 000 Address 003>,\n",
       " <DEVICE ID 046d:c52b on Bus 000 Address 004>,\n",
       " <DEVICE ID 046d:c52b on Bus 000 Address 005>,\n",
       " <DEVICE ID 045e:077b on Bus 000 Address 010>]"
      ]
     },
     "execution_count": 4,
     "metadata": {},
     "output_type": "execute_result"
    }
   ],
   "source": [
    "devices, devices_ids =  find_all_devices_by_class(DEVICE_CLASS.Human_Interface_Device)\n",
    "devices"
   ]
  },
  {
   "cell_type": "code",
   "execution_count": 5,
   "metadata": {},
   "outputs": [],
   "source": [
    "import sys\n",
    "import usb.core\n",
    "import usb.util\n",
    "\n",
    "# decimal vendor and product values     \n",
    "dev = usb.core.find(idVendor = 0x045e, idProduct = 0x077b )\n",
    "dev.set_configuration()"
   ]
  },
  {
   "cell_type": "code",
   "execution_count": 6,
   "metadata": {},
   "outputs": [],
   "source": [
    "# dev.reset()"
   ]
  },
  {
   "cell_type": "code",
   "execution_count": 7,
   "metadata": {},
   "outputs": [
    {
     "data": {
      "text/plain": [
       "<ENDPOINT 0x83: Interrupt IN>"
      ]
     },
     "execution_count": 7,
     "metadata": {},
     "output_type": "execute_result"
    }
   ],
   "source": [
    "# or, uncomment the next line to search instead by the hexidecimal equivalent\n",
    "# dev = usb.core.find(idVendor=0x45e, idProduct=0x77d)\n",
    "# first endpoint\n",
    "interface = (0, 0)\n",
    "endpoint = dev[0][interface][0]\n",
    "endpoint"
   ]
  },
  {
   "cell_type": "code",
   "execution_count": 10,
   "metadata": {},
   "outputs": [
    {
     "name": "stdout",
     "output_type": "stream",
     "text": [
      "array('B', [16, 0, 23, 0, 5, 0, 0, 0])\n",
      "array('B', [16, 0, 23, 0, 6, 0, 0, 0])\n",
      "array('B', [16, 0, 252, 255, 96, 0, 0, 0])\n",
      "array('B', [16, 0, 237, 255, 245, 255, 0, 0])\n",
      "array('B', [16, 0, 238, 255, 243, 255, 0, 0])\n",
      "array('B', [16, 0, 240, 255, 243, 255, 0, 0])\n",
      "array('B', [16, 0, 241, 255, 243, 255, 0, 0])\n",
      "array('B', [16, 0, 242, 255, 242, 255, 0, 0])\n",
      "array('B', [16, 0, 246, 255, 244, 255, 0, 0])\n",
      "array('B', [16, 0, 246, 255, 244, 255, 0, 0])\n",
      "array('B', [16, 0, 249, 255, 247, 255, 0, 0])\n",
      "array('B', [16, 0, 252, 255, 248, 255, 0, 0])\n",
      "array('B', [16, 0, 254, 255, 250, 255, 0, 0])\n",
      "array('B', [16, 0, 1, 0, 252, 255, 0, 0])\n",
      "array('B', [16, 0, 4, 0, 254, 255, 0, 0])\n",
      "array('B', [16, 0, 11, 0, 254, 255, 0, 0])\n",
      "array('B', [16, 0, 16, 0, 0, 0, 0, 0])\n",
      "array('B', [16, 0, 23, 0, 0, 0, 0, 0])\n",
      "array('B', [16, 0, 30, 0, 1, 0, 0, 0])\n",
      "array('B', [16, 0, 32, 0, 5, 0, 0, 0])\n",
      "array('B', [16, 0, 36, 0, 6, 0, 0, 0])\n",
      "array('B', [16, 0, 39, 0, 8, 0, 0, 0])\n",
      "array('B', [16, 0, 37, 0, 8, 0, 0, 0])\n",
      "array('B', [16, 0, 36, 0, 9, 0, 0, 0])\n",
      "array('B', [16, 0, 36, 0, 12, 0, 0, 0])\n",
      "array('B', [16, 0, 33, 0, 8, 0, 0, 0])\n",
      "array('B', [16, 0, 29, 0, 6, 0, 0, 0])\n",
      "array('B', [16, 0, 21, 0, 3, 0, 0, 0])\n",
      "array('B', [16, 0, 14, 0, 3, 0, 0, 0])\n",
      "array('B', [16, 0, 6, 0, 2, 0, 0, 0])\n",
      "array('B', [16, 0, 1, 0, 2, 0, 0, 0])\n",
      "array('B', [16, 0, 253, 255, 1, 0, 0, 0])\n",
      "array('B', [16, 0, 246, 255, 0, 0, 0, 0])\n",
      "array('B', [16, 0, 236, 255, 253, 255, 0, 0])\n",
      "array('B', [16, 0, 226, 255, 251, 255, 0, 0])\n",
      "array('B', [16, 0, 220, 255, 249, 255, 0, 0])\n",
      "array('B', [16, 0, 215, 255, 248, 255, 0, 0])\n",
      "array('B', [16, 0, 214, 255, 247, 255, 0, 0])\n",
      "array('B', [16, 0, 214, 255, 245, 255, 0, 0])\n",
      "array('B', [16, 0, 217, 255, 242, 255, 0, 0])\n",
      "array('B', [16, 0, 220, 255, 239, 255, 0, 0])\n",
      "array('B', [16, 0, 224, 255, 232, 255, 0, 0])\n",
      "array('B', [16, 0, 231, 255, 232, 255, 0, 0])\n",
      "array('B', [16, 0, 238, 255, 238, 255, 0, 0])\n",
      "array('B', [16, 0, 242, 255, 237, 255, 0, 0])\n",
      "array('B', [16, 0, 244, 255, 244, 255, 0, 0])\n",
      "array('B', [16, 0, 250, 255, 250, 255, 0, 0])\n",
      "array('B', [16, 0, 255, 255, 255, 255, 0, 0])\n",
      "array('B', [16, 0, 8, 0, 0, 0, 0, 0])\n",
      "array('B', [16, 0, 12, 0, 4, 0, 0, 0])\n"
     ]
    }
   ],
   "source": [
    "# if the OS kernel already claimed the device, which is most likely true\n",
    "# thanks to http://stackoverflow.com/questions/8218683/pyusb-cannot-set-configuration\n",
    "\n",
    "# dev.detach_kernel_driver(interface)\n",
    "# if dev.is_kernel_driver_active(interface) is True:\n",
    "    \n",
    "#   # tell the kernel to detach\n",
    "#   dev.detach_kernel_driver(interface)\n",
    "    \n",
    "# # claim the device\n",
    "# usb.util.claim_interface(dev, interface)\n",
    "\n",
    "collected = 0\n",
    "attempts = 50\n",
    "\n",
    "while collected < attempts :\n",
    "    try:\n",
    "#         data = dev.read(endpoint.bEndpointAddress ,endpoint.wMaxPacketSize)\n",
    "        data = endpoint.read(endpoint.wMaxPacketSize)\n",
    "        collected += 1\n",
    "        print(data)\n",
    "    except usb.core.USBError as e:\n",
    "        data = None\n",
    "        if e.args == ('Operation timed out',):\n",
    "            continue            \n",
    "\n",
    "# release the device\n",
    "usb.util.release_interface(dev, interface)\n",
    "\n",
    "# # reattach the device to the OS kernel\n",
    "# dev.attach_kernel_driver(interface)"
   ]
  }
 ],
 "metadata": {
  "kernelspec": {
   "display_name": "Python 3",
   "language": "python",
   "name": "python3"
  },
  "language_info": {
   "codemirror_mode": {
    "name": "ipython",
    "version": 3
   },
   "file_extension": ".py",
   "mimetype": "text/x-python",
   "name": "python",
   "nbconvert_exporter": "python",
   "pygments_lexer": "ipython3",
   "version": "3.6.9"
  }
 },
 "nbformat": 4,
 "nbformat_minor": 2
}
