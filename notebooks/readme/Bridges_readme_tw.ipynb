{
 "cells": [
  {
   "cell_type": "markdown",
   "metadata": {},
   "source": [
    "# Bridges \n",
    "\n",
    "### Pretend your PC to be a Raspberry Pi or ESP32, connecting I2C/SPI/GPIO/UART peripherals, using Python. \n",
    "\n",
    "\n",
    "[GitHub repo.](https://github.com/Wei1234c/Bridges)\n",
    "\n",
    "Wei Lin  \n",
    "2019-4-2\n",
    "\n",
    "![Bridges](https://raw.githubusercontent.com/Wei1234c/Bridges/master/jpgs/Between_the_Grand_Island_bridges.jpg)  \n",
    "\n",
    "\n",
    "## [緣由與目標]\n",
    "會想寫這個 package 主要有幾個原因:  \n",
    "\n",
    "- 需要使用 PC 連接 I2C/SPI/GPIO/UART 介面的周邊\n",
    " - 最近進行的一些專案，需要使用 I2C/SPI介面的感測器，但是 PC 上面並沒有外露的 I2C/SPI 介面接口，所以需要外接 USB to I2C/SPI 的轉換器。\n",
    " - 市面上有很多種 USB to I2C/SPI/GPIO/UART 的轉換器，比較便宜，銷售數量較多的有 [FTDI](https://www.ftdichip.com/) 的 [FT232H](https://www.ftdichip.com/Products/ICs/FT232H.htm), [FT2232H](https://www.ftdichip.com/Products/ICs/FT2232H.htm) 和 [WCH](http://www.wch.cn/) 的 [CH341](http://www.wch.cn/products/CH341.html)...等數種。 FTDI 的文件與開發資源相當齊全，而 CH341 方面的文件就比較少了些。\n",
    " \n",
    " \n",
    " \n",
    " - 要驅動 FT232H/FT2232H \n",
    " \n",
    "- 開發與除錯的方便性\n",
    "- 一直以來都習慣用 MicroP\n",
    " \n",
    "\n",
    "## [作法與特色]\n",
    " \n",
    "Bridges\n",
    "\n",
    "### 模擬的 Canvas 功能:\n",
    "\n",
    " \n",
    " \n",
    "\n",
    " \n",
    "## [測試結果]\n",
    "- 測試設備與組成\n",
    "  - 以 PC 執行 client 端程式將 tasks 分派給一個由三個 ESP32 所組成的 cluster 來處理，請參考下列 video 的說明。\n",
    "  - 詳細的程式碼，請參考 [測試用的 Jupyter notebook](https://github.com/Wei1234c/Broccoli/blob/master/notebooks/demo/mini%20cluster%20test.ipynb)   \n",
    " \n",
    " \n",
    "[![ROS chatters on Windows](https://raw.githubusercontent.com/Wei1234c/Broccoli/master/jpgs/youtube.jpeg)](https://youtu.be/LbiSnh8w1kM)  \n",
    "\n",
    "\n",
    "\n",
    "## [優缺點與應用]\n",
    "- 缺點\n",
    "- 優點\n",
    "\n",
    "\n",
    "#### Notes\n",
    "- \n",
    "\n",
    "\n",
    "#### Reference:  \n",
    "  1. [Celery On Docker Swarm](https://github.com/Wei1234c/CeleryOnDockerSwarm/blob/master/celery_projects/CeleryOnDockerSwarm.md)   \n",
    "  1. [IoT as Brain](https://github.com/Wei1234c/IOTasBrain)   \n",
    "  1. [Elastic Network of Things with MQTT and MicroPython](https://github.com/Wei1234c/Elastic_Network_of_Things_with_MQTT_and_MicroPython)"
   ]
  },
  {
   "cell_type": "code",
   "execution_count": null,
   "metadata": {},
   "outputs": [],
   "source": []
  }
 ],
 "metadata": {
  "kernelspec": {
   "display_name": "Python 3",
   "language": "python",
   "name": "python3"
  },
  "language_info": {
   "codemirror_mode": {
    "name": "ipython",
    "version": 3
   },
   "file_extension": ".py",
   "mimetype": "text/x-python",
   "name": "python",
   "nbconvert_exporter": "python",
   "pygments_lexer": "ipython3",
   "version": "3.6.8"
  }
 },
 "nbformat": 4,
 "nbformat_minor": 2
}
