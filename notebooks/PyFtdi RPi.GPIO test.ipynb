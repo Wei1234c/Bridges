{
 "cells": [
  {
   "cell_type": "markdown",
   "metadata": {},
   "source": [
    "# PyFtdi RPi.GPIO test\n",
    "http://eblot.github.io/pyftdi/  \n",
    "https://pypi.org/project/pyftdi/  \n",
    "https://github.com/eblot/pyftdi  \n",
    "https://www.ftdichip.com/  \n",
    "https://www.ftdichip.com/Products/ICs/FT232H.htm  \n",
    "\n",
    "Pinout:  \n",
    "http://eblot.github.io/pyftdi/pinout.html  \n",
    "\n",
    "OLED display:  \n",
    "https://circuitdigest.com/article/ssd1306-oled-display  "
   ]
  },
  {
   "cell_type": "markdown",
   "metadata": {},
   "source": [
    "### 需安裝\n",
    "\n",
    "```\n",
    "pip install pyusb\n",
    "\n",
    "```\n",
    "\n",
    "### Windows DLL\n",
    "[libusb-win32-devel-filter-1.2.6.0.exe](https://sourceforge.net/projects/libusb-win32/files/libusb-win32-releases/1.2.6.0/)  \n",
    "\n",
    "https://sourceforge.net/projects/libusb-win32/  \n",
    "\n",
    "\n",
    "\n",
    "### Linux 權限\n",
    "https://ubuntuforums.org/showthread.php?t=1682084  \n",
    "https://linuxconfig.org/tutorial-on-how-to-write-basic-udev-rules-in-linux  \n",
    "```\n",
    "If anyone is interested.. fixed with udev rule:\n",
    "\n",
    "cd /etc/udev/rules.d/\n",
    "\n",
    "sudo nano 70-usb.rules\n",
    "\n",
    "SUBSYSTEM==\"usb\", ATTRS{idVendor}==\"1a86\", GROUP=\"dialout\", MODE=\"666\" \n",
    "SUBSYSTEM==\"usb\", ATTRS{idVendor}==\"0403\", GROUP=\"dialout\", MODE=\"666\" \n",
    "\n",
    "then reloaded udev rules:\n",
    "\n",
    "sudo udevadm control --reload-rules  \n",
    "sudo udevadm trigger\n",
    "\n",
    "```"
   ]
  },
  {
   "cell_type": "markdown",
   "metadata": {},
   "source": [
    "### 安裝步驟\n",
    "\n",
    "- 安裝 [libusb-win32-devel-filter](https://sourceforge.net/projects/libusb-win32/)\n",
    "    - [libusb-win32-devel-filter-1.2.6.0.exe](https://sourceforge.net/projects/libusb-win32/files/libusb-win32-releases/1.2.6.0/) \n",
    "- 使用 libUSB-Win32, install all class filters    \n",
    "\n",
    "\n",
    "- 安裝 PySerial\n",
    "```\n",
    "pip install pyserial\n",
    "```\n",
    "    \n",
    "- 安裝 PyUSB\n",
    "```\n",
    "pip install pyusb\n",
    "``` \n",
    "\n",
    "- 安裝 PyFtdi (http://eblot.github.io/pyftdi/installation.html)\n",
    "```\n",
    "pip install pyftdi\n",
    "``` "
   ]
  },
  {
   "cell_type": "code",
   "execution_count": 2,
   "metadata": {},
   "outputs": [
    {
     "name": "stdout",
     "output_type": "stream",
     "text": [
      "Populating the interactive namespace from numpy and matplotlib\n"
     ]
    }
   ],
   "source": [
    "%pylab inline  "
   ]
  },
  {
   "cell_type": "code",
   "execution_count": 3,
   "metadata": {},
   "outputs": [],
   "source": [
    "import os\n",
    "import sys\n",
    "\n",
    "sys.path.append(os.path.abspath(os.path.join('..', 'codes')))\n",
    "\n",
    "path = os.sep.join(['..', '..', '..', '..', '..', '待處理', 'ORM', 'bitbucket', 'github', 'codes'])\n",
    "sys.path.append(path) \n",
    "\n",
    "path = os.sep.join(['..', '..', '..', '..', '..', '待處理', 'USB', 'Universal Serial Bus', 'bitbucket', 'github', 'codes'])\n",
    "sys.path.append(path)\n",
    "\n",
    "import universal_serial_bus\n",
    "from universal_serial_bus import *\n",
    "\n",
    "import pyftdi\n",
    "from pprint import pprint"
   ]
  },
  {
   "cell_type": "markdown",
   "metadata": {},
   "source": [
    "## RPi.GPIO\n",
    "https://sourceforge.net/p/raspberry-gpio-python/wiki/Examples/  "
   ]
  },
  {
   "cell_type": "markdown",
   "metadata": {},
   "source": [
    "## BasicUsage\n",
    "### Importing the module"
   ]
  },
  {
   "cell_type": "code",
   "execution_count": 4,
   "metadata": {},
   "outputs": [],
   "source": [
    "# import RPi.GPIO as GPIO\n",
    "from bridges.ftdi.adapters.rpi.RPi import GPIO"
   ]
  },
  {
   "cell_type": "markdown",
   "metadata": {},
   "source": [
    "### Pin numbering\n",
    "The mode will be GPIO.BOARD, GPIO.BCM or None"
   ]
  },
  {
   "cell_type": "code",
   "execution_count": 5,
   "metadata": {},
   "outputs": [
    {
     "data": {
      "text/plain": [
       "11"
      ]
     },
     "execution_count": 5,
     "metadata": {},
     "output_type": "execute_result"
    }
   ],
   "source": [
    "GPIO.setmode(GPIO.BOARD) \n",
    "GPIO.setmode(GPIO.BCM)\n",
    "\n",
    "mode = GPIO.getmode()\n",
    "mode"
   ]
  },
  {
   "cell_type": "markdown",
   "metadata": {},
   "source": [
    "### Warnings"
   ]
  },
  {
   "cell_type": "code",
   "execution_count": 6,
   "metadata": {},
   "outputs": [],
   "source": [
    "# GPIO.setwarnings(False)"
   ]
  },
  {
   "cell_type": "markdown",
   "metadata": {},
   "source": [
    "### Setup up a channel"
   ]
  },
  {
   "cell_type": "code",
   "execution_count": 7,
   "metadata": {},
   "outputs": [
    {
     "data": {
      "text/plain": [
       "<bridges.ftdi.adapters.micropython.machine.Pin at 0x23cda404240>"
      ]
     },
     "execution_count": 7,
     "metadata": {},
     "output_type": "execute_result"
    }
   ],
   "source": [
    "channel = 6\n",
    "\n",
    "GPIO.setup(channel, GPIO.IN)\n",
    "\n",
    "GPIO.setup(channel, GPIO.OUT)\n",
    "\n",
    "GPIO.setup(channel, GPIO.OUT, initial=GPIO.HIGH)"
   ]
  },
  {
   "cell_type": "markdown",
   "metadata": {},
   "source": [
    "### Setup more than one channel"
   ]
  },
  {
   "cell_type": "code",
   "execution_count": 8,
   "metadata": {},
   "outputs": [],
   "source": [
    "chan_list = [5, 6]    # add as many channels as you want!\n",
    "                       # you can tuples instead i.e.:\n",
    "                       #   chan_list = (11,12)\n",
    "GPIO.setup(chan_list, GPIO.OUT)"
   ]
  },
  {
   "cell_type": "markdown",
   "metadata": {},
   "source": [
    "### Input\n",
    "This will return either 0 / GPIO.LOW / False or 1 / GPIO.HIGH / True."
   ]
  },
  {
   "cell_type": "code",
   "execution_count": 9,
   "metadata": {},
   "outputs": [
    {
     "data": {
      "text/plain": [
       "1"
      ]
     },
     "execution_count": 9,
     "metadata": {},
     "output_type": "execute_result"
    }
   ],
   "source": [
    "GPIO.setup(channel, GPIO.IN)\n",
    "GPIO.input(channel)"
   ]
  },
  {
   "cell_type": "markdown",
   "metadata": {},
   "source": [
    "### Output\n",
    "tate can be 0 / GPIO.LOW / False or 1 / GPIO.HIGH / True."
   ]
  },
  {
   "cell_type": "code",
   "execution_count": 10,
   "metadata": {},
   "outputs": [],
   "source": [
    "channel = 6\n",
    "state = GPIO.HIGH\n",
    "\n",
    "GPIO.setup(channel, GPIO.OUT)\n",
    "GPIO.output(channel, state)"
   ]
  },
  {
   "cell_type": "markdown",
   "metadata": {},
   "source": [
    "### Output to several channels"
   ]
  },
  {
   "cell_type": "code",
   "execution_count": 11,
   "metadata": {},
   "outputs": [],
   "source": [
    "chan_list = [5, 6]                             # also works with tuples\n",
    "GPIO.setup(chan_list, GPIO.OUT)\n",
    "GPIO.output(chan_list, GPIO.LOW)                # sets all to GPIO.LOW\n",
    "GPIO.output(chan_list, (GPIO.HIGH, GPIO.LOW))   # sets first HIGH and second LOW"
   ]
  },
  {
   "cell_type": "markdown",
   "metadata": {},
   "source": [
    "### Cleanup"
   ]
  },
  {
   "cell_type": "code",
   "execution_count": 12,
   "metadata": {},
   "outputs": [],
   "source": [
    "# GPIO.cleanup()"
   ]
  },
  {
   "cell_type": "code",
   "execution_count": 13,
   "metadata": {},
   "outputs": [],
   "source": [
    "# channel1 = 5\n",
    "# channel2 = 6\n",
    "\n",
    "# GPIO.cleanup(channel)\n",
    "# GPIO.cleanup( (channel1, channel2) )\n",
    "# GPIO.cleanup( [channel1, channel2] )"
   ]
  },
  {
   "cell_type": "markdown",
   "metadata": {},
   "source": [
    "### RPi Board Information and RPi.GPIO version"
   ]
  },
  {
   "cell_type": "code",
   "execution_count": 14,
   "metadata": {},
   "outputs": [
    {
     "data": {
      "text/plain": [
       "{'PLATFORM': 'Windows-10-10.0.17763-SP0',\n",
       " 'P1_REVISION': 'Windows-10-10.0.17763-SP0'}"
      ]
     },
     "execution_count": 14,
     "metadata": {},
     "output_type": "execute_result"
    }
   ],
   "source": [
    "GPIO.RPI_INFO "
   ]
  },
  {
   "cell_type": "code",
   "execution_count": 15,
   "metadata": {},
   "outputs": [
    {
     "data": {
      "text/plain": [
       "'Windows-10-10.0.17763-SP0'"
      ]
     },
     "execution_count": 15,
     "metadata": {},
     "output_type": "execute_result"
    }
   ],
   "source": [
    "GPIO.RPI_INFO['P1_REVISION'] "
   ]
  },
  {
   "cell_type": "code",
   "execution_count": 16,
   "metadata": {},
   "outputs": [
    {
     "data": {
      "text/plain": [
       "0.1"
      ]
     },
     "execution_count": 16,
     "metadata": {},
     "output_type": "execute_result"
    }
   ],
   "source": [
    "GPIO.VERSION"
   ]
  },
  {
   "cell_type": "markdown",
   "metadata": {},
   "source": [
    "## Inputs"
   ]
  },
  {
   "cell_type": "markdown",
   "metadata": {},
   "source": [
    "### Pull up / Pull down resistors\n",
    "not sure FTDI ICs support this ?"
   ]
  },
  {
   "cell_type": "code",
   "execution_count": 17,
   "metadata": {},
   "outputs": [
    {
     "data": {
      "text/plain": [
       "<bridges.ftdi.adapters.micropython.machine.Pin at 0x23cda404978>"
      ]
     },
     "execution_count": 17,
     "metadata": {},
     "output_type": "execute_result"
    }
   ],
   "source": [
    "from bridges.ftdi.adapters.rpi.RPi import GPIO\n",
    "\n",
    "channel = 6\n",
    "GPIO.setup(channel, GPIO.OUT, initial = GPIO.HIGH)"
   ]
  },
  {
   "cell_type": "code",
   "execution_count": 18,
   "metadata": {},
   "outputs": [
    {
     "data": {
      "text/plain": [
       "<bridges.ftdi.adapters.micropython.machine.Pin at 0x23cda404ba8>"
      ]
     },
     "execution_count": 18,
     "metadata": {},
     "output_type": "execute_result"
    }
   ],
   "source": [
    "channel = 5\n",
    "\n",
    "GPIO.setup(channel, GPIO.IN, pull_up_down=GPIO.PUD_UP)"
   ]
  },
  {
   "cell_type": "markdown",
   "metadata": {},
   "source": [
    "### Testing inputs (polling)"
   ]
  },
  {
   "cell_type": "code",
   "execution_count": 19,
   "metadata": {},
   "outputs": [
    {
     "name": "stdout",
     "output_type": "stream",
     "text": [
      "Input was HIGH\n"
     ]
    }
   ],
   "source": [
    "if GPIO.input(channel):\n",
    "    print('Input was HIGH')\n",
    "else:\n",
    "    print('Input was LOW')"
   ]
  },
  {
   "cell_type": "code",
   "execution_count": 20,
   "metadata": {},
   "outputs": [],
   "source": [
    "# while GPIO.input(channel) == GPIO.HIGH:\n",
    "#     time.sleep(0.01)  # wait 10 ms to give CPU chance to do other things\n",
    "    \n",
    "# print('It is LOW now!')"
   ]
  },
  {
   "cell_type": "markdown",
   "metadata": {},
   "source": [
    "### Interrupts and Edge detection (not supported, FTDI IC doesn't have USB endpoint of \"Interrupt input\" type.)\n",
    "#### wait_for_edge() function\n",
    " \n",
    "Note that you can detect edges of type GPIO.RISING, GPIO.FALLING or GPIO.BOTH. The advantage of doing it this way is that it uses a negligible amount of CPU, so there is plenty left for other tasks."
   ]
  },
  {
   "cell_type": "code",
   "execution_count": 21,
   "metadata": {},
   "outputs": [],
   "source": [
    "# GPIO.wait_for_edge(channel, GPIO.RISING)"
   ]
  },
  {
   "cell_type": "code",
   "execution_count": 22,
   "metadata": {},
   "outputs": [
    {
     "name": "stdout",
     "output_type": "stream",
     "text": [
      "Edge detected on channel 5\n"
     ]
    }
   ],
   "source": [
    "# wait for up to 5 seconds for a rising edge (timeout is in milliseconds)\n",
    "# channel = GPIO.wait_for_edge(channel, GPIO_RISING, timeout=5000)\n",
    "\n",
    "if channel is None:\n",
    "    print('Timeout occurred')\n",
    "else:\n",
    "    print('Edge detected on channel', channel)"
   ]
  },
  {
   "cell_type": "markdown",
   "metadata": {},
   "source": [
    "#### event_detected() function"
   ]
  },
  {
   "cell_type": "code",
   "execution_count": 23,
   "metadata": {},
   "outputs": [],
   "source": [
    "# GPIO.add_event_detect(channel, GPIO.RISING)  # add rising edge detection on a channel\n",
    "\n",
    "# if GPIO.event_detected(channel):\n",
    "#     print('Button pressed')"
   ]
  },
  {
   "cell_type": "markdown",
   "metadata": {},
   "source": [
    "### Threaded callbacks\n",
    "RPi.GPIO runs a second thread for callback functions. This means that callback functions can be run at the same time as your main program, in immediate response to an edge. For example:"
   ]
  },
  {
   "cell_type": "code",
   "execution_count": 24,
   "metadata": {},
   "outputs": [],
   "source": [
    "# def my_callback(channel):\n",
    "#     print('This is a edge event callback function!')\n",
    "#     print('Edge detected on channel %s'%channel)\n",
    "#     print('This is run in a different thread to your main program')\n",
    "    \n",
    "# \"\"\"\n",
    "# GPIO.add_event_detect(channel, GPIO.RISING, callback=my_callback)  # add rising edge detection on a channel\n",
    "# ...the rest of your program...\n",
    "# If you wanted more than one callback function:\n",
    "# \"\"\"\n",
    "\n",
    "# def my_callback_one(channel):\n",
    "#     print('Callback one')\n",
    "\n",
    "# def my_callback_two(channel):\n",
    "#     print('Callback two')"
   ]
  },
  {
   "cell_type": "markdown",
   "metadata": {},
   "source": [
    "### Switch debounce"
   ]
  },
  {
   "cell_type": "code",
   "execution_count": 25,
   "metadata": {},
   "outputs": [],
   "source": [
    "# GPIO.add_event_detect(channel, GPIO.RISING, callback=my_callback, bouncetime=200) \n",
    "\n",
    "# GPIO.add_event_callback(channel, my_callback, bouncetime=200)"
   ]
  },
  {
   "cell_type": "markdown",
   "metadata": {},
   "source": [
    "### Remove event detection"
   ]
  },
  {
   "cell_type": "code",
   "execution_count": 26,
   "metadata": {},
   "outputs": [],
   "source": [
    "# GPIO.remove_event_detect(channel)"
   ]
  },
  {
   "cell_type": "markdown",
   "metadata": {},
   "source": [
    "## Outputs"
   ]
  },
  {
   "cell_type": "code",
   "execution_count": 27,
   "metadata": {},
   "outputs": [
    {
     "data": {
      "text/plain": [
       "<bridges.ftdi.adapters.micropython.machine.Pin at 0x23cda4140b8>"
      ]
     },
     "execution_count": 27,
     "metadata": {},
     "output_type": "execute_result"
    }
   ],
   "source": [
    "\"1. First set up RPi.GPIO (as described here)\"\n",
    "\n",
    "# import RPi.GPIO as GPIO\n",
    "from bridges.ftdi.adapters.rpi.RPi import GPIO \n",
    "\n",
    "GPIO.setmode(GPIO.BOARD)\n",
    "\n",
    "channel = 6\n",
    "GPIO.setup(channel, GPIO.OUT)"
   ]
  },
  {
   "cell_type": "code",
   "execution_count": 28,
   "metadata": {},
   "outputs": [],
   "source": [
    "\"2. To set an output high:\"\n",
    "\n",
    "GPIO.output(channel, GPIO.HIGH)\n",
    "\" # or\"\n",
    "GPIO.output(channel, 1)\n",
    "\" # or\"\n",
    "GPIO.output(channel, True)"
   ]
  },
  {
   "cell_type": "code",
   "execution_count": 29,
   "metadata": {},
   "outputs": [],
   "source": [
    "\"3. To set an output low:\"\n",
    "GPIO.output(channel, GPIO.LOW)\n",
    "\" # or\"\n",
    "GPIO.output(channel, 0)\n",
    "\" # or\"\n",
    "GPIO.output(channel, False)"
   ]
  },
  {
   "cell_type": "code",
   "execution_count": 30,
   "metadata": {},
   "outputs": [],
   "source": [
    "\"4. To output to several channels at the same time:\"\n",
    "chan_list = (channel, 5)\n",
    "GPIO.output(chan_list, GPIO.LOW) # all LOW\n",
    "GPIO.output(chan_list, (GPIO.HIGH,GPIO.LOW))  # first LOW, second HIGH"
   ]
  },
  {
   "cell_type": "code",
   "execution_count": 31,
   "metadata": {},
   "outputs": [],
   "source": [
    "\"Note that you can read the current state of a channel set up as an output using the input() function. For example to toggle an output:\"\n",
    "GPIO.output(channel, not GPIO.input(channel))"
   ]
  },
  {
   "cell_type": "code",
   "execution_count": 32,
   "metadata": {},
   "outputs": [
    {
     "data": {
      "text/plain": [
       "'5. Clean up at the end of your program'"
      ]
     },
     "execution_count": 32,
     "metadata": {},
     "output_type": "execute_result"
    }
   ],
   "source": [
    "\"5. Clean up at the end of your program\"\n",
    "# GPIO.cleanup()"
   ]
  },
  {
   "cell_type": "markdown",
   "metadata": {},
   "source": [
    "## PWM (Not Implemented)"
   ]
  },
  {
   "cell_type": "code",
   "execution_count": 33,
   "metadata": {},
   "outputs": [
    {
     "data": {
      "text/plain": [
       "<bridges.ftdi.adapters.micropython.machine.Pin at 0x23cda414358>"
      ]
     },
     "execution_count": 33,
     "metadata": {},
     "output_type": "execute_result"
    }
   ],
   "source": [
    "# import RPi.GPIO as GPIO\n",
    "from bridges.ftdi.adapters.rpi.RPi import GPIO \n",
    " \n",
    "GPIO.setmode(GPIO.BOARD)\n",
    "\n",
    "channel = 6\n",
    "GPIO.setup(channel, GPIO.OUT)"
   ]
  },
  {
   "cell_type": "code",
   "execution_count": 34,
   "metadata": {},
   "outputs": [],
   "source": [
    "# # \"To create a PWM instance:\"\n",
    "# frequency = 50\n",
    "# p = GPIO.PWM(channel, frequency)"
   ]
  },
  {
   "cell_type": "code",
   "execution_count": 35,
   "metadata": {},
   "outputs": [],
   "source": [
    "# # \"To start PWM:\"\n",
    "# dc = 50\n",
    "\n",
    "# p.start(dc)   # where dc is the duty cycle (0.0 <= dc <= 100.0)"
   ]
  },
  {
   "cell_type": "code",
   "execution_count": 36,
   "metadata": {},
   "outputs": [],
   "source": [
    "# # \"To change the frequency:\"\n",
    "# freq = 50\n",
    "# p.ChangeFrequency(freq)   # where freq is the new frequency in Hz"
   ]
  },
  {
   "cell_type": "code",
   "execution_count": 37,
   "metadata": {},
   "outputs": [],
   "source": [
    "# # \"To change the duty cycle:\"\n",
    "\n",
    "# p.ChangeDutyCycle(dc)  # where 0.0 <= dc <= 100.0"
   ]
  },
  {
   "cell_type": "code",
   "execution_count": 38,
   "metadata": {},
   "outputs": [],
   "source": [
    "# # \"To stop PWM:\"\n",
    "\n",
    "# p.stop()"
   ]
  },
  {
   "cell_type": "code",
   "execution_count": 39,
   "metadata": {},
   "outputs": [],
   "source": [
    "# # \"Note that PWM will also stop if the instance variable 'p' goes out of scope.\"\n",
    "\n",
    "# # \"An example to blink an LED once every two seconds:\"\n",
    " \n",
    "# GPIO.setmode(GPIO.BOARD)\n",
    "# GPIO.setup(channel, GPIO.OUT)\n",
    "\n",
    "# p = GPIO.PWM(channel, 0.5)\n",
    "# p.start(1)\n",
    "\n",
    "# input('Press return to stop:')   # use raw_input for Python 2\n",
    "# p.stop()\n",
    "# GPIO.cleanup()"
   ]
  },
  {
   "cell_type": "code",
   "execution_count": 40,
   "metadata": {},
   "outputs": [],
   "source": [
    "# # \"An example to brighten/dim an LED:\"\n",
    "\n",
    "# import time \n",
    "\n",
    "# GPIO.setmode(GPIO.BOARD)\n",
    "# GPIO.setup(channel, GPIO.OUT)\n",
    "\n",
    "# p = GPIO.PWM(channel, 50)  # channel=channel frequency=50Hz\n",
    "# p.start(0)\n",
    "\n",
    "# try:\n",
    "    \n",
    "#     while 1:\n",
    "        \n",
    "#         for dc in range(0, 101, 5):\n",
    "#             p.ChangeDutyCycle(dc)\n",
    "#             time.sleep(0.1)\n",
    "            \n",
    "#         for dc in range(100, -1, -5):\n",
    "#             p.ChangeDutyCycle(dc)\n",
    "#             time.sleep(0.1)\n",
    "            \n",
    "# except KeyboardInterrupt:\n",
    "#     pass\n",
    "\n",
    "# p.stop()\n",
    "# GPIO.cleanup()"
   ]
  },
  {
   "cell_type": "code",
   "execution_count": 41,
   "metadata": {},
   "outputs": [],
   "source": [
    "# GPIO.cleanup()"
   ]
  },
  {
   "cell_type": "markdown",
   "metadata": {},
   "source": [
    "## gpio_function(channel)\n",
    "will return a value from:  \n",
    "GPIO.IN, GPIO.OUT, GPIO.SPI, GPIO.I2C, GPIO.HARD_PWM, GPIO.SERIAL, GPIO.UNKNOWN"
   ]
  },
  {
   "cell_type": "code",
   "execution_count": 42,
   "metadata": {},
   "outputs": [
    {
     "name": "stdout",
     "output_type": "stream",
     "text": [
      "['IN']\n",
      "['OUT']\n"
     ]
    }
   ],
   "source": [
    "# import RPi.GPIO as GPIO\n",
    "from bridges.ftdi.adapters.rpi.RPi import GPIO \n",
    "\n",
    "GPIO.setmode(GPIO.BOARD)\n",
    "\n",
    "channel = 6\n",
    "\n",
    "GPIO.setup(channel, GPIO.IN)\n",
    "print(GPIO.gpio_function(channel))\n",
    "\n",
    "GPIO.setup(channel, GPIO.OUT)\n",
    "print(GPIO.gpio_function(channel)) "
   ]
  },
  {
   "cell_type": "markdown",
   "metadata": {},
   "source": [
    "### Clean up at the end of your program\""
   ]
  },
  {
   "cell_type": "code",
   "execution_count": 43,
   "metadata": {},
   "outputs": [],
   "source": [
    "# Clean up at the end of your program\"\n",
    "GPIO.cleanup()"
   ]
  }
 ],
 "metadata": {
  "kernelspec": {
   "display_name": "Python 3",
   "language": "python",
   "name": "python3"
  },
  "language_info": {
   "codemirror_mode": {
    "name": "ipython",
    "version": 3
   },
   "file_extension": ".py",
   "mimetype": "text/x-python",
   "name": "python",
   "nbconvert_exporter": "python",
   "pygments_lexer": "ipython3",
   "version": "3.6.9"
  }
 },
 "nbformat": 4,
 "nbformat_minor": 2
}
