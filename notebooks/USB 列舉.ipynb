{
 "cells": [
  {
   "cell_type": "markdown",
   "metadata": {},
   "source": [
    "# USB 列舉 \n",
    "https://wwssllabcd.github.io/blog/2012/11/28/usb-emulation/  "
   ]
  },
  {
   "cell_type": "markdown",
   "metadata": {},
   "source": [
    "### 需安裝\n",
    "\n",
    "```\n",
    "pip install pyusb\n",
    "\n",
    "```\n",
    "\n",
    "### Windows DLL\n",
    "[libusb-win32-devel-filter-1.2.6.0.exe](https://sourceforge.net/projects/libusb-win32/files/libusb-win32-releases/1.2.6.0/)  \n",
    "\n",
    "https://sourceforge.net/projects/libusb-win32/  \n",
    "\n",
    "\n",
    "\n",
    "### Linux 權限\n",
    "https://ubuntuforums.org/showthread.php?t=1682084  \n",
    "https://linuxconfig.org/tutorial-on-how-to-write-basic-udev-rules-in-linux  \n",
    "```\n",
    "If anyone is interested.. fixed with udev rule:\n",
    "\n",
    "cd /etc/udev/rules.d/\n",
    "\n",
    "nano 70-ch341.rules\n",
    "\n",
    "SUBSYSTEM==\"usb\", ATTRS{idVendor}==\"1a86\", GROUP=\"dialout\"\n",
    "SUBSYSTEM==\"usb\", ATTRS{idVendor}==\"1a86\", MODE=\"666\"\n",
    "\n",
    "then reloaded udev rules:\n",
    "\n",
    "$ sudo udevadm control --reload-rules  \n",
    "$ sudo udevadm trigger\n",
    "\n",
    "```"
   ]
  },
  {
   "cell_type": "code",
   "execution_count": 1,
   "metadata": {},
   "outputs": [
    {
     "name": "stdout",
     "output_type": "stream",
     "text": [
      "Populating the interactive namespace from numpy and matplotlib\n"
     ]
    }
   ],
   "source": [
    "%pylab inline  \n",
    "\n",
    "import usb"
   ]
  },
  {
   "cell_type": "code",
   "execution_count": 2,
   "metadata": {},
   "outputs": [],
   "source": [
    "import os\n",
    "import sys\n",
    "sys.path.append(os.path.abspath(os.path.join('..', 'codes')))\n",
    "\n",
    "from bridges.universal_serial_bus import *"
   ]
  },
  {
   "cell_type": "markdown",
   "metadata": {},
   "source": [
    "# Control transfer\n",
    "https://wwssllabcd.github.io/blog/2012/11/28/usb-emulation/  "
   ]
  },
  {
   "cell_type": "code",
   "execution_count": 3,
   "metadata": {},
   "outputs": [],
   "source": [
    "dev = USBdevice(vid = 0x1a86, pid = 0x5512 )  # a USB device \n",
    "# dev = USBdevice(vid = 0x2717, pid = 0xff40 )  # a USB device  "
   ]
  },
  {
   "cell_type": "markdown",
   "metadata": {},
   "source": [
    "### Host 對 Address 0 發送 Device類 (wValue = 0x0100) GetDescriptor (bRequest = 0x06) 的請求\n",
    "\n",
    "- \tBYTE 0，1：80，06 代表 GetDescriptor\n",
    "- \tBYTE 2，3：代表 Descriptor 索引，這裡是 1，代表 Device Descriptor\n",
    "- \tBYTE 4，5：代表語言的 ID(應該是編碼， ex big5..etc ?)\n",
    "- \tBYTE 6，7：代表 Length， 代表 Device 要回傳多少 Data 回來，這裡是 0x40，而 Device 傳的 Data 只能小於等於這個長度"
   ]
  },
  {
   "cell_type": "code",
   "execution_count": 4,
   "metadata": {},
   "outputs": [
    {
     "data": {
      "text/plain": [
       "'0x80'"
      ]
     },
     "execution_count": 4,
     "metadata": {},
     "output_type": "execute_result"
    }
   ],
   "source": [
    "bmRequestType = usb.util.build_request_type(CONTROL_REQUEST.DIRECTION.IN, \n",
    "                                            CONTROL_REQUEST.TYPE.STANDARD, \n",
    "                                            CONTROL_REQUEST.RECIPIENT.DEVICE)\n",
    "hex(bmRequestType)"
   ]
  },
  {
   "cell_type": "code",
   "execution_count": 5,
   "metadata": {},
   "outputs": [],
   "source": [
    "desc = dev.ctrl_transfer(bmRequestType = bmRequestType, \n",
    "                         bRequest = CONTROL_REQUEST.GET_DESCRIPTOR, \n",
    "                         wValue = DESCRIPTOR.TYPE.DEVICE << 8, \n",
    "                         wIndex = 0, \n",
    "                         data_or_wLength = DESCRIPTOR.SIZE.DEVICE)"
   ]
  },
  {
   "cell_type": "markdown",
   "metadata": {},
   "source": [
    "### Device 回應 Host 所下的 Device類 (wValue = 0x0100) GetDescriptor\n",
    "- \tBYTE 0 :0x12， 代表 Length， 為 0x12 個 BYTE\n",
    "- \tBYTE 1 :0x01， 代表 Descriptor 的種類，01 代表 Device Descriptor\n",
    "- \t(注：第一個BYTE為描述資訊的長度，第二個BYTE為描述資訊的類別，長度太少，host 會不接受，過常 Host 會忽略)\n",
    "- \tBYTE 2，3 代表 USB 版本， value = 0200， ，也就是 USB 2.0\n",
    "- \tBYTE 4 代表 Device class(裝置類別)，這裡是 0x00，代表這個 Device 的Class 是在介面描述元中定義，(如果是 0x09， 代表 Hub，參考下面的 Class code， USB-IF )\n",
    "- \tBYTE 5 代表 Sub Device 類別，這裡是 0\n",
    "- \tBYTE 6 代表 Protocal，這裡是 0x00 ( 如果是 0x01， 代表 Hi-speed hub with single TT( 參考各 Device 的 Class code ))\n",
    "- \tBYTE 7 代表 bMaxPacketSize， 這裡是 0x40， 也就是端點 0 最大的封包大小 (非端點 1，端點 2，其他端點的封包大小由 endPoint Descriptor 描述)\n",
    "- \tBYTE 8，9 代表 vid， 這裡是 0x0C76 代表 JMTek， LLC.，(如果這裡是 05E3，代表 Genesys (創唯))( VID列表 http://www.linux-usb.org/usb.ids )\n",
    "- \tBYTE 10，11 代表 PID，這裡是 0x0005(0005 Transcend Flash disk) (如果是 0608，代表 USB-2.0 4-Port HUB)\n",
    "- \tBYTE 12，13 代表 Deive 序號， 0x0001\n",
    "- \tBYTE 14: 代表 Manufacturer 號，這裡為 1\n",
    "- \tBYTE 15: 代表 Product 號，這裡為 2\n",
    "- \tBYTE 16: 代表 SN 號，這裡為 0\n",
    "- \tBYTE 17 numConfiguartions: Number of possible configration，這裡是 1 "
   ]
  },
  {
   "cell_type": "code",
   "execution_count": 6,
   "metadata": {},
   "outputs": [
    {
     "data": {
      "text/plain": [
       "array('B', [18, 1, 16, 1, 255, 0, 2, 8, 134, 26, 18, 85, 4, 3, 0, 0, 0, 1])"
      ]
     },
     "execution_count": 6,
     "metadata": {},
     "output_type": "execute_result"
    }
   ],
   "source": [
    "desc"
   ]
  },
  {
   "cell_type": "code",
   "execution_count": 7,
   "metadata": {},
   "outputs": [
    {
     "name": "stdout",
     "output_type": "stream",
     "text": [
      "DEVICE ID 1a86:5512 on Bus 000 Address 006 =================\n",
      " bLength                :   0x12 (18 bytes)\n",
      " bDescriptorType        :    0x1 Device\n",
      " bcdUSB                 :  0x110 USB 1.1\n",
      " bDeviceClass           :   0xff Vendor-specific\n",
      " bDeviceSubClass        :    0x0\n",
      " bDeviceProtocol        :    0x2\n",
      " bMaxPacketSize0        :    0x8 (8 bytes)\n",
      " idVendor               : 0x1a86\n",
      " idProduct              : 0x5512\n",
      " bcdDevice              :  0x304 Device 3.04\n",
      " iManufacturer          :    0x0 \n",
      " iProduct               :    0x0 \n",
      " iSerialNumber          :    0x0 \n",
      " bNumConfigurations     :    0x1\n"
     ]
    }
   ],
   "source": [
    "print(dev._get_full_descriptor_str())"
   ]
  },
  {
   "cell_type": "markdown",
   "metadata": {},
   "source": [
    "### Host 對 Address 0 發送 SetAddress 的請求\n",
    "- \tBYTE 0: 因為不用 Data-in ，所以不是 0x00\n",
    "- \tBYTE 1: 代表 Command 種類，這裡是 0x05，代表 SetAddress ( GetDescriptor 這裡是 0x06)\n",
    "- \tBYTE 2，3 : 代表 Address，範圍為 0~127\n",
    "- \tBYTE 4~7: fixed 0"
   ]
  },
  {
   "cell_type": "code",
   "execution_count": 8,
   "metadata": {},
   "outputs": [
    {
     "data": {
      "text/plain": [
       "'0x0'"
      ]
     },
     "execution_count": 8,
     "metadata": {},
     "output_type": "execute_result"
    }
   ],
   "source": [
    "bmRequestType = usb.util.build_request_type(CONTROL_REQUEST.DIRECTION.OUT, \n",
    "                                            CONTROL_REQUEST.TYPE.STANDARD, \n",
    "                                            CONTROL_REQUEST.RECIPIENT.DEVICE)\n",
    "hex(bmRequestType)"
   ]
  },
  {
   "cell_type": "code",
   "execution_count": 9,
   "metadata": {},
   "outputs": [],
   "source": [
    "# value = dev.ctrl_transfer(bmRequestType = bmRequestType, bRequest = 0x05, wValue = 0x0400, wIndex = 0, data_or_wLength = 0)\n",
    "# value"
   ]
  },
  {
   "cell_type": "markdown",
   "metadata": {},
   "source": [
    "### Host 對 Address 3 發送 GetDescriptor 的請求\n",
    "Host 對新的 Address 下 GetDescriptor，目的可能是想要觀察 Device 有沒有正確的被配到新的位置，理論上來說，回傳的 Data 應該要一樣才對， 而接下來所有發送的位置，都會以新的位置來發送"
   ]
  },
  {
   "cell_type": "markdown",
   "metadata": {},
   "source": [
    "### Host 發送 Config類 (wValue = 0x0200) GetDescriptor (bRequest = 0x06) 的請求\n",
    "再看CATC圖之前先說明一下，此時 Host 要取回 Device 的 Configuration\n",
    "而 Configuration Descriptor 中有包含好幾種 Descriptor，概述如下  \n",
    "\n",
    "- \t組態描述元(Configuration Descriptor)\n",
    "- \t介面描述元(Interface Descriptor)\n",
    "- \t端點描述元(Endpoint Descriptor)\n",
    "- \tHID描述元(HID Descriptor)\n",
    "- \tetc.. \n",
    "\n",
    "這邊 Host 把GetDescriptor(Config類)這個動作分成兩步驟\n",
    "\n",
    "1. 只先取 Configuration Descriptor(也就是前9 BYTE)\n",
    "2. 根據 Configuration Descriptor 中的BYTE 2,3，來得知 GetDescriptor(Config類)的總長"
   ]
  },
  {
   "cell_type": "code",
   "execution_count": 10,
   "metadata": {},
   "outputs": [
    {
     "data": {
      "text/plain": [
       "'0x80'"
      ]
     },
     "execution_count": 10,
     "metadata": {},
     "output_type": "execute_result"
    }
   ],
   "source": [
    "bmRequestType = usb.util.build_request_type(CONTROL_REQUEST.DIRECTION.IN, \n",
    "                                            CONTROL_REQUEST.TYPE.STANDARD, \n",
    "                                            CONTROL_REQUEST.RECIPIENT.DEVICE)\n",
    "hex(bmRequestType)"
   ]
  },
  {
   "cell_type": "code",
   "execution_count": 17,
   "metadata": {},
   "outputs": [],
   "source": [
    "desc = dev.ctrl_transfer(bmRequestType = bmRequestType, \n",
    "                         bRequest = CONTROL_REQUEST.GET_DESCRIPTOR, \n",
    "                         wValue = DESCRIPTOR.TYPE.CONFIG << 8, \n",
    "                         wIndex = 0, \n",
    "                         data_or_wLength = DESCRIPTOR.SIZE.CONFIG)"
   ]
  },
  {
   "cell_type": "markdown",
   "metadata": {},
   "source": [
    "### Device 回傳 Config類 (wValue = 0x0200) GetDescriptor (bRequest = 0x06) 的請求\n",
    "- \tBYTE 0: 0x09， 代表這個 Descriptor 的長度\n",
    "- \tBYTE 1: 0x02， 代表這9 BYTE 是屬於 Configuration Descriptor\n",
    "- \tBYTE 2 :0x20， wTotalLength_L，0x20(該配置返回的數據總長度，包括其下 interface， Endpoint descriptor 的總長度)\n",
    "- \tBYTE 3 :0x00， wTotalLength_H\n",
    "- \tBYTE 4: 0x01， 代表有幾個 interface，這裡為 1 (猜測， 一個USB_interface 對應一種USB邏輯設備，比如鼠標、鍵盤、音頻流。所以，在USB範疇中，device 一般就是指一個 interface。一個驅動只控制一個 interface。)\n",
    "- \tBYTE 5: 0x01， 代表這個 Configuration 的編號 ( Host 可由這個編號，下SetConfiguration 來做 配置的切換)\n",
    "- \tBYTE 6: 0x00， 代表這個 configuartion 的String Descriptor 編號，如果為 0x00，則代表沒有String Descriptor\n",
    "- \tBYTE 7: 0x80， 代表這個配置的一些 attribute， Bit7 fixed 1(for historical reason), Bit6=1，代表從Usb Bus 供電， Bit5=1 代表Remote wake up\n",
    "- \tBYTE 8: 0x32， 所用電流，單位為 2mA，這邊代表這個裝置需要 100mA ( USB Hub 最大為 500mA) "
   ]
  },
  {
   "cell_type": "code",
   "execution_count": 18,
   "metadata": {},
   "outputs": [
    {
     "data": {
      "text/plain": [
       "array('B', [9, 2, 39, 0, 1, 1, 0, 128, 48])"
      ]
     },
     "execution_count": 18,
     "metadata": {},
     "output_type": "execute_result"
    }
   ],
   "source": [
    "desc"
   ]
  },
  {
   "cell_type": "code",
   "execution_count": 19,
   "metadata": {},
   "outputs": [
    {
     "name": "stdout",
     "output_type": "stream",
     "text": [
      "  CONFIGURATION 1: 96 mA ===================================\n",
      "   bLength              :    0x9 (9 bytes)\n",
      "   bDescriptorType      :    0x2 Configuration\n",
      "   wTotalLength         :   0x27 (39 bytes)\n",
      "   bNumInterfaces       :    0x1\n",
      "   bConfigurationValue  :    0x1\n",
      "   iConfiguration       :    0x0 \n",
      "   bmAttributes         :   0x80 Bus Powered\n",
      "   bMaxPower            :   0x30 (96 mA)\n"
     ]
    }
   ],
   "source": [
    "print(dev[0]._get_full_descriptor_str())"
   ]
  },
  {
   "cell_type": "markdown",
   "metadata": {},
   "source": [
    "### Host 再一次發送 GetDescriptor(Config類) 的請求"
   ]
  },
  {
   "cell_type": "code",
   "execution_count": 20,
   "metadata": {},
   "outputs": [],
   "source": [
    "desc_size = desc[2]\n",
    "\n",
    "desc = dev.ctrl_transfer(bmRequestType = bmRequestType, \n",
    "                         bRequest = CONTROL_REQUEST.GET_DESCRIPTOR, \n",
    "                         wValue = DESCRIPTOR.TYPE.CONFIG << 8, \n",
    "                         wIndex = 0, \n",
    "                         data_or_wLength = desc_size)"
   ]
  },
  {
   "cell_type": "markdown",
   "metadata": {},
   "source": [
    "### Device 再一次回傳 GetDescriptor(Config類)\n",
    "根據USB規定，當指令要取得組態描述元時，則裝置必須要將裝置描述元，介面描述元，HID描述元，端點描述元的資料全都回傳給主機，並且按照規定的順序排列  \n",
    "\n",
    "這裡面一共有四組 (可藉由計算長度 (第一個BYTE) 來判斷)\n",
    "- \t第一組為 Configuration，共 9 BYTE，而 0x02 代表 組態描述元(Configuration Descriptor)\n",
    "- \t第二組為 Interface ，共 9 BYTE，而 0x04 代表 介面描述元(Interface Descriptor)\n",
    "- \t第三組為 Endpoint ，共 7 BYTE，而 0x05 代表 端點描述元(Endpoint Descriptor)\n",
    "- \t第四組為 Endpoint ，共 7 BYTE，而 0x05 代表 端點描述元(Endpoint Descriptor) "
   ]
  },
  {
   "cell_type": "code",
   "execution_count": 21,
   "metadata": {},
   "outputs": [
    {
     "data": {
      "text/plain": [
       "array('B', [9, 2, 39, 0, 1, 1, 0, 128, 48, 9, 4, 0, 0, 3, 255, 1, 2, 0, 7, 5, 130, 2, 32, 0, 0, 7, 5, 2, 2, 32, 0, 0, 7, 5, 129, 3, 8, 0, 1])"
      ]
     },
     "execution_count": 21,
     "metadata": {},
     "output_type": "execute_result"
    }
   ],
   "source": [
    "desc"
   ]
  },
  {
   "cell_type": "code",
   "execution_count": 22,
   "metadata": {},
   "outputs": [
    {
     "name": "stdout",
     "output_type": "stream",
     "text": [
      "  CONFIGURATION 1: 96 mA ===================================\n",
      "   bLength              :    0x9 (9 bytes)\n",
      "   bDescriptorType      :    0x2 Configuration\n",
      "   wTotalLength         :   0x27 (39 bytes)\n",
      "   bNumInterfaces       :    0x1\n",
      "   bConfigurationValue  :    0x1\n",
      "   iConfiguration       :    0x0 \n",
      "   bmAttributes         :   0x80 Bus Powered\n",
      "   bMaxPower            :   0x30 (96 mA)\n",
      "    INTERFACE 0: Vendor Specific ===========================\n",
      "     bLength            :    0x9 (9 bytes)\n",
      "     bDescriptorType    :    0x4 Interface\n",
      "     bInterfaceNumber   :    0x0\n",
      "     bAlternateSetting  :    0x0\n",
      "     bNumEndpoints      :    0x3\n",
      "     bInterfaceClass    :   0xff Vendor Specific\n",
      "     bInterfaceSubClass :    0x1\n",
      "     bInterfaceProtocol :    0x2\n",
      "     iInterface         :    0x0 \n",
      "      ENDPOINT 0x82: Bulk IN ===============================\n",
      "       bLength          :    0x7 (7 bytes)\n",
      "       bDescriptorType  :    0x5 Endpoint\n",
      "       bEndpointAddress :   0x82 IN\n",
      "       bmAttributes     :    0x2 Bulk\n",
      "       wMaxPacketSize   :   0x20 (32 bytes)\n",
      "       bInterval        :    0x0\n",
      "      ENDPOINT 0x2: Bulk OUT ===============================\n",
      "       bLength          :    0x7 (7 bytes)\n",
      "       bDescriptorType  :    0x5 Endpoint\n",
      "       bEndpointAddress :    0x2 OUT\n",
      "       bmAttributes     :    0x2 Bulk\n",
      "       wMaxPacketSize   :   0x20 (32 bytes)\n",
      "       bInterval        :    0x0\n",
      "      ENDPOINT 0x81: Interrupt IN ==========================\n",
      "       bLength          :    0x7 (7 bytes)\n",
      "       bDescriptorType  :    0x5 Endpoint\n",
      "       bEndpointAddress :   0x81 IN\n",
      "       bmAttributes     :    0x3 Interrupt\n",
      "       wMaxPacketSize   :    0x8 (8 bytes)\n",
      "       bInterval        :    0x1\n"
     ]
    }
   ],
   "source": [
    "print(dev[0])"
   ]
  },
  {
   "cell_type": "markdown",
   "metadata": {},
   "source": [
    "### Device Configuartion 中的介面描述元(Interface Descriptor)\n",
    "- \tBYTE 0: 0x09， 代表長度\n",
    "- \tBYTE 1: 0x04， 代表 Interface descriptor\n",
    "- \tBYTE 2: 0x00， Interface Number\n",
    "- \tBYTE 3: 0x00， AltemateSetting，代表交替設定 (linux 會有機會交替的使用不同的AltemateSetting)\n",
    "- \tBYTE 4: 0x02， 代表此介面所使用的端點數 (對應到 linux unsigned num_altstting)\n",
    "- \tBYTE 5: 0x08， Class Code (群組代碼)，代表Interface Class， 0x08 代表 mess storage( see http://www.usb.org/developers/defined_class)\n",
    "- \tBYTE 6: 0x06， SubClass code(次群組代碼)：主群組代碼如果有細分的話，就在這裡描述，而 0x06 代表SCSI ( 0x02 代表CD-ROM)(對應到 linux kernel drivers/usb/storage/protocol.h)\n",
    "- \tBYTE 7: 0x50， interfaceProtocol(介面協定), 0x50 代表Bulk-Only Transfer( 對應到 linux kernel ，drivers/usb/storage/transport.h)\n",
    "- \tBYTE 8: 0x00， Interface 的 String Descriptor， 0x00 代表沒有 "
   ]
  },
  {
   "cell_type": "markdown",
   "metadata": {},
   "source": [
    "### Device Configuartion 中的端點描述元(Endpoint Descriptor)\n",
    "- 共 7 BYTE，描述端點的屬性及位置 (不描述端點 0)，端點的數目是由 Interface descriptor 的BYTE 4 得知\n",
    "- 每個端點在Device 中，都是代表某個記憶體位置，而各個端點有不同的傳輸型態及最大傳輸值  \n",
    "\n",
    "    - \tBYTE 0: 0x07， 代表長度\n",
    "    - \tBYTE 1: 0x05， Descriptor Type，0x05 代表端點描述元\n",
    "    - \tBYTE 2: 0x81， EndPoint Address， BIt[3:0] 代表端點號，， BIt[7] 1:In， 0: out，所以 0x81 代表 Endpoint 1， 負責 data-In，而控制端點是雙向的，所以不用看BIt7\n",
    "    - \tBYTE 3: 0x02， Attribute(端點屬性): Bit[1:0] 代表支援的傳輸模式，10b(即 2) 代表Bulk 類\n",
    "    - \tBYTE 4: 0x00， wMaxPacketSize_L: 最大傳輸量，如果是HighSpeed，則是 512，也就是 0x200\n",
    "    - \tBYTE 5: 0x02， wMaxPacketSize_H ( 在 linux 中，kernel 會根據 wMaxPacketSize 的大小，使用 kalloc 配置一塊記憶體給該 endptr 使用而有趣的是，由於是LSB的關係，linux 會使用一個 le16_to_cpu 函數把 0x0002 轉成 0x0200)\n",
    "    - \tBYTE 6: 0xFF， Interval， 代表多少間隔內，Device 最多只發一次NAK封包 (或是在中斷傳輸中，host 間隔多少時間來 polling device) "
   ]
  },
  {
   "cell_type": "markdown",
   "metadata": {},
   "source": [
    "### Host 下 Get String Descriptor\n",
    "Host Get string descriptor(wValue MSB: Descriptor Type =0x3)  \n",
    "- \tBYTE 2: index，這裡的 index=0， 代表只取LanguageID\n",
    "- \tBYTE 3: 代表GetString Descriptor\n",
    "- \tBYTE 4，5 : 代表Language ID， 這裡為 0，代表沒有特別的ID\n",
    "- \tBYTE 6，7: 代表Length "
   ]
  },
  {
   "cell_type": "code",
   "execution_count": 23,
   "metadata": {},
   "outputs": [],
   "source": [
    "desc = dev.ctrl_transfer(bmRequestType = bmRequestType, \n",
    "                         bRequest = CONTROL_REQUEST.GET_DESCRIPTOR, \n",
    "                         wValue = DESCRIPTOR.TYPE.STRING << 8, \n",
    "                         wIndex = 0, \n",
    "                         data_or_wLength = 0xFF)"
   ]
  },
  {
   "cell_type": "markdown",
   "metadata": {},
   "source": [
    "### Device 回傳 String Descriptor\n",
    "- \tBYTE 0: Length， 長度為 4\n",
    "- \tBYTE 1: DescriptorType， 為 03\n",
    "- \tBYTE 2，3: bString， 0409， 代表Language ID = 0x0409，代表使用的Language 為 English (United States) "
   ]
  },
  {
   "cell_type": "code",
   "execution_count": 24,
   "metadata": {},
   "outputs": [
    {
     "data": {
      "text/plain": [
       "array('B', [4, 3, 9, 4])"
      ]
     },
     "execution_count": 24,
     "metadata": {},
     "output_type": "execute_result"
    }
   ],
   "source": [
    "desc"
   ]
  },
  {
   "cell_type": "markdown",
   "metadata": {},
   "source": [
    "### Host 再下一次 GetString Descriptor ( Get Product String )\n",
    "\n",
    "接下來，Host 會在下一次GetString Descriptor 下，與上次不同的是，wValue 的LSB(BYTE 2), 也就是Descriptor Value 變成了 2  \n",
    "\n",
    "- wValue 低八位 =2， 對應Product String.\n",
    "- wIndex，也就是Language ID變成了 0x0409( Byte 4，5)"
   ]
  },
  {
   "cell_type": "code",
   "execution_count": 26,
   "metadata": {},
   "outputs": [
    {
     "data": {
      "text/plain": [
       "'0x409'"
      ]
     },
     "execution_count": 26,
     "metadata": {},
     "output_type": "execute_result"
    }
   ],
   "source": [
    "lang_id = (desc[-1] << 8) + desc[-2]\n",
    "hex(lang_id)"
   ]
  },
  {
   "cell_type": "code",
   "execution_count": 28,
   "metadata": {},
   "outputs": [],
   "source": [
    "id_string = 2\n",
    "\n",
    "desc = dev.ctrl_transfer(bmRequestType = bmRequestType,\n",
    "                         bRequest = CONTROL_REQUEST.GET_DESCRIPTOR, \n",
    "                         wValue = (DESCRIPTOR.TYPE.STRING << 8) + id_string,\n",
    "                         wIndex = lang_id,\n",
    "                         data_or_wLength = 0xFF)"
   ]
  },
  {
   "cell_type": "markdown",
   "metadata": {},
   "source": [
    "### Device 回傳 GetString Descriptor ( Product String )\n",
    "把這些數據按照ASCII編碼翻譯過來，就是現在 Host 端的 device name 了"
   ]
  },
  {
   "cell_type": "code",
   "execution_count": 29,
   "metadata": {},
   "outputs": [
    {
     "data": {
      "text/plain": [
       "array('B', [255, 255, 255, 255, 255, 255, 255, 255])"
      ]
     },
     "execution_count": 29,
     "metadata": {},
     "output_type": "execute_result"
    }
   ],
   "source": [
    "desc"
   ]
  },
  {
   "cell_type": "code",
   "execution_count": 30,
   "metadata": {},
   "outputs": [],
   "source": [
    "def get_usb_string_descriptor(dev, index, lang_id = 0x0409):    \n",
    "    \n",
    "    bmRequestType = usb.util.build_request_type(CONTROL_REQUEST.DIRECTION.IN,\n",
    "                                                CONTROL_REQUEST.TYPE.STANDARD,\n",
    "                                                CONTROL_REQUEST.RECIPIENT.DEVICE) \n",
    "    \n",
    "    desc = dev.ctrl_transfer(bmRequestType = bmRequestType,\n",
    "                             bRequest = CONTROL_REQUEST.GET_DESCRIPTOR, \n",
    "                             wValue = (DESCRIPTOR.TYPE.STRING << 8) + index ,\n",
    "                             wIndex = lang_id, \n",
    "                             data_or_wLength = 0xFF)\n",
    "    \n",
    "    return bytes(desc[2:desc[0]:2]).decode('utf-8')"
   ]
  },
  {
   "cell_type": "code",
   "execution_count": 31,
   "metadata": {},
   "outputs": [
    {
     "name": "stdout",
     "output_type": "stream",
     "text": [
      "\n",
      "===================== DEVICE ID 046d:c52b on Bus 000 Address 001\n",
      "0 \t\n",
      "1 Logitech\n",
      "2 USB Receiver\n",
      "4 RQR12.09_B0030\n",
      "\n",
      "===================== DEVICE ID 04f2:b57e on Bus 000 Address 003\n",
      "0 \t\n",
      "1 EasyCamera\n",
      "2 0001\n",
      "3 Chicony Electronics Co.,Ltd.\n",
      "4 USB Camera\n",
      "5 EasyCamera\n",
      "\n",
      "===================== DEVICE ID 04f2:b57e on Bus 000 Address 004\n",
      "0 \t\n",
      "1 EasyCamera\n",
      "2 0001\n",
      "3 Chicony Electronics Co.,Ltd.\n",
      "4 USB Camera\n",
      "5 EasyCamera\n",
      "\n",
      "===================== DEVICE ID 1a86:5512 on Bus 000 Address 006\n",
      "0 \t\n",
      "\n",
      "===================== DEVICE ID 046d:c52b on Bus 000 Address 008\n",
      "0 \t\n",
      "1 Logitech\n",
      "2 USB Receiver\n",
      "4 RQR12.09_B0030\n",
      "\n",
      "===================== DEVICE ID 046d:c52b on Bus 000 Address 009\n",
      "0 \t\n",
      "1 Logitech\n",
      "2 USB Receiver\n",
      "4 RQR12.09_B0030\n",
      "\n",
      "===================== DEVICE ID 046d:c52b on Bus 000 Address 010\n",
      "0 \t\n",
      "1 Logitech\n",
      "2 USB Receiver\n",
      "4 RQR12.09_B0030\n"
     ]
    }
   ],
   "source": [
    "def enum_dev_string_descriptors(dev, lang_id = 0x0409, max = 127):    \n",
    "    for i in range(max):\n",
    "        try:\n",
    "            print(i, get_usb_string_descriptor(dev, i, lang_id))\n",
    "        except:\n",
    "            pass   \n",
    "        \n",
    "def enum_devs_string_descriptors(lang_id = 0x0409):    \n",
    "    devs = usb.core.find(find_all = True)    \n",
    "    for dev in devs:\n",
    "        print('\\n=====================', dev._str())\n",
    "        enum_dev_string_descriptors(dev, lang_id = lang_id)\n",
    "        \n",
    "        \n",
    "enum_devs_string_descriptors(lang_id = 0x0409)"
   ]
  }
 ],
 "metadata": {
  "kernelspec": {
   "display_name": "Python 3",
   "language": "python",
   "name": "python3"
  },
  "language_info": {
   "codemirror_mode": {
    "name": "ipython",
    "version": 3
   },
   "file_extension": ".py",
   "mimetype": "text/x-python",
   "name": "python",
   "nbconvert_exporter": "python",
   "pygments_lexer": "ipython3",
   "version": "3.6.8"
  }
 },
 "nbformat": 4,
 "nbformat_minor": 2
}
