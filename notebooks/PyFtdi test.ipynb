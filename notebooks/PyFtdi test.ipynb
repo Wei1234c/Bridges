{
 "cells": [
  {
   "cell_type": "markdown",
   "metadata": {},
   "source": [
    "# PyFtdi test\n",
    "http://eblot.github.io/pyftdi/  \n",
    "https://pypi.org/project/pyftdi/  \n",
    "https://github.com/eblot/pyftdi  \n",
    "https://www.ftdichip.com/  \n",
    "https://www.ftdichip.com/Products/ICs/FT232H.htm  \n",
    "\n",
    "Pinout:  \n",
    "http://eblot.github.io/pyftdi/pinout.html  \n",
    "\n",
    "OLED display:  \n",
    "https://circuitdigest.com/article/ssd1306-oled-display  "
   ]
  },
  {
   "cell_type": "markdown",
   "metadata": {},
   "source": [
    "### 需安裝\n",
    "\n",
    "```\n",
    "pip install pyusb\n",
    "\n",
    "```\n",
    "\n",
    "### Windows DLL\n",
    "[libusb-win32-devel-filter-1.2.6.0.exe](https://sourceforge.net/projects/libusb-win32/files/libusb-win32-releases/1.2.6.0/)  \n",
    "\n",
    "https://sourceforge.net/projects/libusb-win32/  \n",
    "\n",
    "\n",
    "\n",
    "### Linux 權限\n",
    "https://ubuntuforums.org/showthread.php?t=1682084  \n",
    "https://linuxconfig.org/tutorial-on-how-to-write-basic-udev-rules-in-linux  \n",
    "```\n",
    "If anyone is interested.. fixed with udev rule:\n",
    "\n",
    "cd /etc/udev/rules.d/\n",
    "\n",
    "sudo nano 70-usb.rules\n",
    "\n",
    "SUBSYSTEM==\"usb\", ATTRS{idVendor}==\"1a86\", GROUP=\"dialout\", MODE=\"666\" \n",
    "SUBSYSTEM==\"usb\", ATTRS{idVendor}==\"0403\", GROUP=\"dialout\", MODE=\"666\" \n",
    "\n",
    "then reloaded udev rules:\n",
    "\n",
    "sudo udevadm control --reload-rules  \n",
    "sudo udevadm trigger\n",
    "\n",
    "```"
   ]
  },
  {
   "cell_type": "markdown",
   "metadata": {},
   "source": [
    "### 安裝步驟\n",
    "\n",
    "- 安裝 [libusb-win32-devel-filter](https://sourceforge.net/projects/libusb-win32/)\n",
    "    - [libusb-win32-devel-filter-1.2.6.0.exe](https://sourceforge.net/projects/libusb-win32/files/libusb-win32-releases/1.2.6.0/) \n",
    "- 使用 libUSB-Win32, install all class filters    \n",
    "\n",
    "\n",
    "- 安裝 PySerial\n",
    "```\n",
    "pip install pyserial\n",
    "```\n",
    "    \n",
    "- 安裝 PyUSB\n",
    "```\n",
    "pip install pyusb\n",
    "``` \n",
    "\n",
    "- 安裝 PyFtdi (http://eblot.github.io/pyftdi/installation.html)\n",
    "```\n",
    "pip install pyftdi\n",
    "``` "
   ]
  },
  {
   "cell_type": "code",
   "execution_count": 1,
   "metadata": {},
   "outputs": [
    {
     "name": "stdout",
     "output_type": "stream",
     "text": [
      "Populating the interactive namespace from numpy and matplotlib\n"
     ]
    }
   ],
   "source": [
    "%pylab inline  \n",
    "\n",
    "import os\n",
    "import sys\n",
    "sys.path.append(os.path.abspath(os.path.join('..', 'codes')))\n",
    "sys.path.append(os.path.abspath(os.path.join('..', 'codes', 'test', 'lib', 'adafruit', 'display')))\n",
    "\n",
    "import pyftdi\n",
    "\n",
    "from pprint import pprint"
   ]
  },
  {
   "cell_type": "markdown",
   "metadata": {},
   "source": [
    "## I2C test"
   ]
  },
  {
   "cell_type": "code",
   "execution_count": null,
   "metadata": {},
   "outputs": [],
   "source": [
    "from bridges.ftdi.controllers.i2c import I2cController\n",
    "\n",
    "ctrl = I2cController()\n",
    "i2c = ctrl.get_i2c()\n",
    "# i2c.scan()\n",
    "\n",
    "\n",
    "from display_ssd1306_i2c import Display\n",
    "\n",
    "d = Display(i2c)  # d = Display(smbus)\n",
    "\n",
    "d.clear()\n",
    "\n",
    "d.rect(0, 0, 30, 30, 56)\n",
    "d.fill_rect(0, 0, 30, 30, 56)\n",
    "d.hline(0, 0, 60, 56)\n",
    "d.vline(0, 0, 60, 56)\n",
    "d.line(0, 0, 60, 60, 56)\n",
    "d.pixel(40, 40, 56)\n",
    "d.show()\n",
    "\n",
    "ctrl.terminate()"
   ]
  },
  {
   "cell_type": "markdown",
   "metadata": {},
   "source": [
    "## SPI test\n",
    "http://eblot.github.io/pyftdi/api/spi.html  "
   ]
  },
  {
   "cell_type": "code",
   "execution_count": 3,
   "metadata": {},
   "outputs": [],
   "source": [
    "from bridges.ftdi.controllers.spi import SpiController \n",
    "\n",
    "ctrl = SpiController()\n",
    "spi = ctrl.get_spi(cs = 0, freq = 12E6, mode = 0)\n",
    "\n",
    "\n",
    "import bridges.ftdi.adapters.micropython.machine as machine\n",
    "from display_ssd1306_spi import Display\n",
    "\n",
    "gpio = ctrl.get_gpio() \n",
    "\n",
    "dc = gpio.Pin('ADBUS4', mode = machine.Pin.OUT)\n",
    "res = gpio.Pin('ADBUS5', mode = machine.Pin.OUT)\n",
    "cs = gpio.Pin('ADBUS7', mode = machine.Pin.OUT)\n",
    "\n",
    "d = Display(spi, dc, res, cs)\n",
    "d.clear()\n",
    "d.rect(0, 0, 30, 30, 56)\n",
    "d.fill_rect(0, 0, 30, 30, 56)\n",
    "d.hline(0, 0, 60, 56)\n",
    "d.vline(0, 0, 60, 56)\n",
    "d.line(0, 0, 60, 60, 56)\n",
    "d.pixel(40, 40, 56)\n",
    "d.show()\n",
    "\n",
    "ctrl.terminate()"
   ]
  },
  {
   "cell_type": "markdown",
   "metadata": {},
   "source": [
    "## SpiGpioPort test\n",
    "http://eblot.github.io/pyftdi/api/spi.html#pyftdi.spi.SpiGpioPort  "
   ]
  },
  {
   "cell_type": "code",
   "execution_count": 4,
   "metadata": {},
   "outputs": [
    {
     "name": "stdout",
     "output_type": "stream",
     "text": [
      "0\n",
      "1\n",
      "2\n"
     ]
    }
   ],
   "source": [
    "import bridges.ftdi.adapters.micropython.machine as machine\n",
    "from bridges.ftdi.controllers.spi import SpiController \n",
    "from time import sleep\n",
    "\n",
    "ctrl = SpiController()\n",
    "spi = ctrl.get_spi(cs = 0, freq = 12E6, mode = 0)\n",
    "gpio = ctrl.get_gpio()\n",
    "\n",
    "pin_name = 'ADBUS6'\n",
    "pin = gpio.Pin(pin_name, mode = machine.Pin.OUT)\n",
    "\n",
    "# pin_idx = gpio.get_pin_idx(pin_name)\n",
    "# pin = gpio.Pin(7, mode = machine.Pin.OUT)\n",
    "\n",
    "\n",
    "def blinks():\n",
    "    from time import sleep\n",
    "\n",
    "    def blink(delay = 0.2):\n",
    "        pin.toggle()\n",
    "        sleep(delay)\n",
    "        pin.toggle()\n",
    "        sleep(delay)\n",
    "\n",
    "\n",
    "    for i in range(3):\n",
    "        print(i)\n",
    "        blink()\n",
    "        \n",
    "\n",
    "blinks()\n",
    "    \n",
    "ctrl.terminate() "
   ]
  },
  {
   "cell_type": "markdown",
   "metadata": {},
   "source": [
    "## GpioPort test\n",
    "http://eblot.github.io/pyftdi/api/gpio.html  "
   ]
  },
  {
   "cell_type": "code",
   "execution_count": 5,
   "metadata": {},
   "outputs": [
    {
     "name": "stdout",
     "output_type": "stream",
     "text": [
      "pin_in: 1\n",
      "0\n",
      "1\n",
      "2\n"
     ]
    }
   ],
   "source": [
    "import bridges.ftdi.adapters.micropython.machine as machine\n",
    "from bridges.ftdi.controllers.gpio import GpioController\n",
    "\n",
    "\n",
    "ctrl = GpioController()\n",
    "# print(gpio.addressable_pins)\n",
    "\n",
    "pin_in = ctrl.Pin('ADBUS5', mode = machine.Pin.IN)\n",
    "pin_out = ctrl.Pin('ADBUS6', mode = machine.Pin.OUT)\n",
    "\n",
    "print('pin_in:', pin_in())\n",
    "\n",
    "def blinks():\n",
    "    from time import sleep\n",
    "\n",
    "    def blink(delay = 0.2):\n",
    "        pin_out.toggle()\n",
    "        sleep(delay)\n",
    "        pin_out.toggle()\n",
    "        sleep(delay)\n",
    "\n",
    "\n",
    "    for i in range(3):\n",
    "        print(i)\n",
    "        blink()\n",
    "\n",
    "\n",
    "\n",
    "blinks()\n",
    "\n",
    "ctrl.terminate()"
   ]
  },
  {
   "cell_type": "markdown",
   "metadata": {},
   "source": [
    "## UART test\n",
    "http://eblot.github.io/pyftdi/api/uart.html  "
   ]
  },
  {
   "cell_type": "code",
   "execution_count": 6,
   "metadata": {},
   "outputs": [
    {
     "data": {
      "text/plain": [
       "UART<id=0x22a68489d68, open=False>(port='ftdi://ftdi:ft232h::/1', baudrate=9600, bytesize=8, parity='N', stopbits=1, timeout=None, xonxoff=False, rtscts=False, dsrdtr=False)"
      ]
     },
     "execution_count": 6,
     "metadata": {},
     "output_type": "execute_result"
    }
   ],
   "source": [
    "from bridges.ftdi.controllers.uart import UartController\n",
    "\n",
    "ctrl = UartController()\n",
    "# port = ctrl.Serial(baudrate = 115200)\n",
    "# port = ctrl.Serial(baudrate = 115200, bytesize=8, parity='N', stopbits=1)\n",
    "port = ctrl.UART(baudrate = 9600, bits = 8, parity = None, stop = 1)\n",
    "\n",
    "# port = ctrl.UART()\n",
    "port.write(b'Hello World')\n",
    "\n",
    "# data = port.read(1024)\n",
    "\n",
    "\n",
    "ctrl.terminate()\n",
    "\n",
    "port"
   ]
  }
 ],
 "metadata": {
  "kernelspec": {
   "display_name": "Python 3",
   "language": "python",
   "name": "python3"
  },
  "language_info": {
   "codemirror_mode": {
    "name": "ipython",
    "version": 3
   },
   "file_extension": ".py",
   "mimetype": "text/x-python",
   "name": "python",
   "nbconvert_exporter": "python",
   "pygments_lexer": "ipython3",
   "version": "3.6.8"
  }
 },
 "nbformat": 4,
 "nbformat_minor": 2
}
