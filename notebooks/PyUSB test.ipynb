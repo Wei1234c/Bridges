{
 "cells": [
  {
   "cell_type": "markdown",
   "metadata": {},
   "source": [
    "# PyUSB test\n",
    "https://www.usb.org/  \n",
    "https://github.com/pyusb/pyusb  \n",
    "https://github.com/pyusb/pyusb/blob/master/docs/tutorial.rst  \n",
    "https://c5techblog.wordpress.com/2016/09/05/tutorial-setup-pyusb-under-windows/  \n",
    "https://www.beyondlogic.org/usbnutshell/  \n",
    "https://wwssllabcd.github.io/blog/2012/11/28/usb-emulation/  "
   ]
  },
  {
   "cell_type": "markdown",
   "metadata": {},
   "source": [
    "### 需安裝\n",
    "\n",
    "```\n",
    "pip install pyusb\n",
    "\n",
    "```\n",
    "\n",
    "### Windows DLL\n",
    "[libusb-win32-devel-filter-1.2.6.0.exe](https://sourceforge.net/projects/libusb-win32/files/libusb-win32-releases/1.2.6.0/)  \n",
    "\n",
    "https://sourceforge.net/projects/libusb-win32/  \n",
    "\n",
    "\n",
    "\n",
    "### Linux 權限\n",
    "https://ubuntuforums.org/showthread.php?t=1682084  \n",
    "https://linuxconfig.org/tutorial-on-how-to-write-basic-udev-rules-in-linux  \n",
    "```\n",
    "If anyone is interested.. fixed with udev rule:\n",
    "\n",
    "cd /etc/udev/rules.d/\n",
    "\n",
    "sudo nano 70-usb.rules\n",
    "\n",
    "SUBSYSTEM==\"usb\", ATTRS{idVendor}==\"1a86\", GROUP=\"dialout\", MODE=\"666\" \n",
    "SUBSYSTEM==\"usb\", ATTRS{idVendor}==\"0403\", GROUP=\"dialout\", MODE=\"666\" \n",
    "\n",
    "then reloaded udev rules:\n",
    "\n",
    "sudo udevadm control --reload-rules  \n",
    "sudo udevadm trigger\n",
    "\n",
    "```"
   ]
  },
  {
   "cell_type": "code",
   "execution_count": 1,
   "metadata": {},
   "outputs": [
    {
     "name": "stdout",
     "output_type": "stream",
     "text": [
      "Populating the interactive namespace from numpy and matplotlib\n"
     ]
    }
   ],
   "source": [
    "%pylab inline  \n",
    "\n",
    "import usb"
   ]
  },
  {
   "cell_type": "code",
   "execution_count": 2,
   "metadata": {},
   "outputs": [],
   "source": [
    "import os\n",
    "import sys\n",
    "sys.path.append(os.path.abspath(os.path.join('..', 'codes')))\n",
    "\n",
    "from bridges.ch341A import *\n",
    "from pprint import pprint"
   ]
  },
  {
   "cell_type": "markdown",
   "metadata": {},
   "source": [
    "### 掃描 USB 裝置"
   ]
  },
  {
   "cell_type": "code",
   "execution_count": 3,
   "metadata": {},
   "outputs": [
    {
     "name": "stdout",
     "output_type": "stream",
     "text": [
      "[<DEVICE ID 0403:6010 on Bus 000 Address 001>,\n",
      " <DEVICE ID 046d:c52b on Bus 000 Address 002>,\n",
      " <DEVICE ID 04f2:b57e on Bus 000 Address 003>,\n",
      " <DEVICE ID 8087:0a2a on Bus 000 Address 004>,\n",
      " <DEVICE ID 046d:c52b on Bus 000 Address 005>,\n",
      " <DEVICE ID 046d:c52b on Bus 000 Address 006>,\n",
      " <DEVICE ID 046d:c52b on Bus 000 Address 007>,\n",
      " <DEVICE ID 04f2:b57e on Bus 000 Address 008>,\n",
      " <DEVICE ID 0403:6010 on Bus 000 Address 009>,\n",
      " <DEVICE ID 0403:6010 on Bus 000 Address 010>]\n"
     ]
    }
   ],
   "source": [
    "devs = usb.core.find(find_all = True)\n",
    "pprint(list(devs))"
   ]
  },
  {
   "cell_type": "code",
   "execution_count": 4,
   "metadata": {},
   "outputs": [
    {
     "name": "stdout",
     "output_type": "stream",
     "text": [
      "[{'class_id': 0,\n",
      "  'devices': [<DEVICE ID 152d:0578 on Bus 003 Address 002>,\n",
      "              <DEVICE ID 0403:6014 on Bus 002 Address 003>,\n",
      "              <DEVICE ID 046d:c52b on Bus 002 Address 002>]},\n",
      " {'class_id': 9,\n",
      "  'devices': [<DEVICE ID 8087:8001 on Bus 001 Address 002>,\n",
      "              <DEVICE ID 1d6b:0002 on Bus 001 Address 001>,\n",
      "              <DEVICE ID 1d6b:0003 on Bus 003 Address 001>,\n",
      "              <DEVICE ID 1d6b:0002 on Bus 002 Address 001>]},\n",
      " {'class_id': 224, 'devices': [<DEVICE ID 0cf3:e300 on Bus 002 Address 006>]},\n",
      " {'class_id': 239, 'devices': [<DEVICE ID 13d3:5727 on Bus 002 Address 005>]},\n",
      " {'class_id': 255, 'devices': [<DEVICE ID 0bda:0129 on Bus 002 Address 004>]}]\n"
     ]
    }
   ],
   "source": [
    "def find_device_of_class(class_id):\n",
    "    devices = usb.core.find(find_all = True, bDeviceClass = class_id)\n",
    "    return (class_id, len(list(devices)))\n",
    "\n",
    "usb_devices = []\n",
    "for i in range(256):\n",
    "    class_id, count = find_device_of_class(i)\n",
    "    if count > 0:\n",
    "        devices = usb.core.find(find_all = True, bDeviceClass = class_id)\n",
    "        usb_devices.append(dict(class_id = class_id, devices = list(devices)))\n",
    "\n",
    "pprint(usb_devices)"
   ]
  },
  {
   "cell_type": "markdown",
   "metadata": {},
   "source": [
    "### device"
   ]
  },
  {
   "cell_type": "code",
   "execution_count": 4,
   "metadata": {
    "scrolled": false
   },
   "outputs": [
    {
     "name": "stdout",
     "output_type": "stream",
     "text": [
      "DEVICE ID 0403:6010 on Bus 000 Address 001 =================\n",
      " bLength                :   0x12 (18 bytes)\n",
      " bDescriptorType        :    0x1 Device\n",
      " bcdUSB                 :  0x200 USB 2.0\n",
      " bDeviceClass           :    0x0 Specified at interface\n",
      " bDeviceSubClass        :    0x0\n",
      " bDeviceProtocol        :    0x0\n",
      " bMaxPacketSize0        :   0x40 (64 bytes)\n",
      " idVendor               : 0x0403\n",
      " idProduct              : 0x6010\n",
      " bcdDevice              :  0x700 Device 7.0\n",
      " iManufacturer          :    0x1 FTDI\n",
      " iProduct               :    0x2 Dual RS232-HS\n",
      " iSerialNumber          :    0x0 \n",
      " bNumConfigurations     :    0x1\n",
      "  CONFIGURATION 1: 500 mA ==================================\n",
      "   bLength              :    0x9 (9 bytes)\n",
      "   bDescriptorType      :    0x2 Configuration\n",
      "   wTotalLength         :   0x37 (55 bytes)\n",
      "   bNumInterfaces       :    0x2\n",
      "   bConfigurationValue  :    0x1\n",
      "   iConfiguration       :    0x0 \n",
      "   bmAttributes         :   0x80 Bus Powered\n",
      "   bMaxPower            :   0xfa (500 mA)\n",
      "    INTERFACE 0: Vendor Specific ===========================\n",
      "     bLength            :    0x9 (9 bytes)\n",
      "     bDescriptorType    :    0x4 Interface\n",
      "     bInterfaceNumber   :    0x0\n",
      "     bAlternateSetting  :    0x0\n",
      "     bNumEndpoints      :    0x2\n",
      "     bInterfaceClass    :   0xff Vendor Specific\n",
      "     bInterfaceSubClass :   0xff\n",
      "     bInterfaceProtocol :   0xff\n",
      "     iInterface         :    0x2 Dual RS232-HS\n",
      "      ENDPOINT 0x81: Bulk IN ===============================\n",
      "       bLength          :    0x7 (7 bytes)\n",
      "       bDescriptorType  :    0x5 Endpoint\n",
      "       bEndpointAddress :   0x81 IN\n",
      "       bmAttributes     :    0x2 Bulk\n",
      "       wMaxPacketSize   :  0x200 (512 bytes)\n",
      "       bInterval        :    0x0\n",
      "      ENDPOINT 0x2: Bulk OUT ===============================\n",
      "       bLength          :    0x7 (7 bytes)\n",
      "       bDescriptorType  :    0x5 Endpoint\n",
      "       bEndpointAddress :    0x2 OUT\n",
      "       bmAttributes     :    0x2 Bulk\n",
      "       wMaxPacketSize   :  0x200 (512 bytes)\n",
      "       bInterval        :    0x0\n",
      "    INTERFACE 1: Vendor Specific ===========================\n",
      "     bLength            :    0x9 (9 bytes)\n",
      "     bDescriptorType    :    0x4 Interface\n",
      "     bInterfaceNumber   :    0x1\n",
      "     bAlternateSetting  :    0x0\n",
      "     bNumEndpoints      :    0x2\n",
      "     bInterfaceClass    :   0xff Vendor Specific\n",
      "     bInterfaceSubClass :   0xff\n",
      "     bInterfaceProtocol :   0xff\n",
      "     iInterface         :    0x2 Dual RS232-HS\n",
      "      ENDPOINT 0x83: Bulk IN ===============================\n",
      "       bLength          :    0x7 (7 bytes)\n",
      "       bDescriptorType  :    0x5 Endpoint\n",
      "       bEndpointAddress :   0x83 IN\n",
      "       bmAttributes     :    0x2 Bulk\n",
      "       wMaxPacketSize   :  0x200 (512 bytes)\n",
      "       bInterval        :    0x0\n",
      "      ENDPOINT 0x4: Bulk OUT ===============================\n",
      "       bLength          :    0x7 (7 bytes)\n",
      "       bDescriptorType  :    0x5 Endpoint\n",
      "       bEndpointAddress :    0x4 OUT\n",
      "       bmAttributes     :    0x2 Bulk\n",
      "       wMaxPacketSize   :  0x200 (512 bytes)\n",
      "       bInterval        :    0x0\n"
     ]
    }
   ],
   "source": [
    "# find our device\n",
    "dev = usb.core.find(idVendor=0x1a86)  # CH341A\n",
    "dev = usb.core.find(idVendor=0x0403, idProduct=0x6014)  # FT232H\n",
    "dev = usb.core.find(idVendor=0x0403, idProduct=0x6010)  # FT2232H\n",
    "\n",
    "# dev = usb.core.find(idVendor=0x046d, idProduct=0xc52b)  # HID\n",
    "# dev = usb.core.find(idVendor=0x04f2, idProduct=0xb57e)  # EasyCamera\n",
    "# dev = usb.core.find(idVendor=0x04f2, idProduct=0xb57e, address = 0x006 )  # EasyCamera\n",
    "\n",
    "\n",
    "# was it found?\n",
    "if dev is None:\n",
    "    raise ValueError('Device not found')\n",
    "    \n",
    "usb.util.dispose_resources(dev)\n",
    "print(dev)"
   ]
  },
  {
   "cell_type": "code",
   "execution_count": 5,
   "metadata": {
    "scrolled": false
   },
   "outputs": [
    {
     "name": "stdout",
     "output_type": "stream",
     "text": [
      "DEVICE ID 0403:6014 on Bus 000 Address 011 =================\n",
      " bLength                :   0x12 (18 bytes)\n",
      " bDescriptorType        :    0x1 Device\n",
      " bcdUSB                 :  0x200 USB 2.0\n",
      " bDeviceClass           :    0x0 Specified at interface\n",
      " bDeviceSubClass        :    0x0\n",
      " bDeviceProtocol        :    0x0\n",
      " bMaxPacketSize0        :   0x40 (64 bytes)\n",
      " idVendor               : 0x0403\n",
      " idProduct              : 0x6014\n",
      " bcdDevice              :  0x900 Device 9.0\n",
      " iManufacturer          :    0x1 FTDI\n",
      " iProduct               :    0x2 Single RS232-HS\n",
      " iSerialNumber          :    0x0 \n",
      " bNumConfigurations     :    0x1\n",
      "  CONFIGURATION 1: 500 mA ==================================\n",
      "   bLength              :    0x9 (9 bytes)\n",
      "   bDescriptorType      :    0x2 Configuration\n",
      "   wTotalLength         :   0x20 (32 bytes)\n",
      "   bNumInterfaces       :    0x1\n",
      "   bConfigurationValue  :    0x1\n",
      "   iConfiguration       :    0x0 \n",
      "   bmAttributes         :   0x80 Bus Powered\n",
      "   bMaxPower            :   0xfa (500 mA)\n",
      "    INTERFACE 0: Vendor Specific ===========================\n",
      "     bLength            :    0x9 (9 bytes)\n",
      "     bDescriptorType    :    0x4 Interface\n",
      "     bInterfaceNumber   :    0x0\n",
      "     bAlternateSetting  :    0x0\n",
      "     bNumEndpoints      :    0x2\n",
      "     bInterfaceClass    :   0xff Vendor Specific\n",
      "     bInterfaceSubClass :   0xff\n",
      "     bInterfaceProtocol :   0xff\n",
      "     iInterface         :    0x2 Single RS232-HS\n",
      "      ENDPOINT 0x81: Bulk IN ===============================\n",
      "       bLength          :    0x7 (7 bytes)\n",
      "       bDescriptorType  :    0x5 Endpoint\n",
      "       bEndpointAddress :   0x81 IN\n",
      "       bmAttributes     :    0x2 Bulk\n",
      "       wMaxPacketSize   :  0x200 (512 bytes)\n",
      "       bInterval        :    0x0\n",
      "      ENDPOINT 0x2: Bulk OUT ===============================\n",
      "       bLength          :    0x7 (7 bytes)\n",
      "       bDescriptorType  :    0x5 Endpoint\n",
      "       bEndpointAddress :    0x2 OUT\n",
      "       bmAttributes     :    0x2 Bulk\n",
      "       wMaxPacketSize   :  0x200 (512 bytes)\n",
      "       bInterval        :    0x0\n"
     ]
    }
   ],
   "source": [
    "# find our device\n",
    "dev = usb.core.find(idVendor=0x1a86)  # CH341A\n",
    "dev = usb.core.find(idVendor=0x0403, idProduct=0x6014)  # FT232H\n",
    "# dev = usb.core.find(idVendor=0x0403, idProduct=0x6010)  # FT2232H\n",
    "\n",
    "# dev = usb.core.find(idVendor=0x046d, idProduct=0xc52b)  # HID\n",
    "# dev = usb.core.find(idVendor=0x04f2, idProduct=0xb57e)  # EasyCamera\n",
    "# dev = usb.core.find(idVendor=0x04f2, idProduct=0xb57e, address = 0x006 )  # EasyCamera\n",
    "\n",
    "\n",
    "# was it found?\n",
    "if dev is None:\n",
    "    raise ValueError('Device not found')\n",
    "    \n",
    "usb.util.dispose_resources(dev)\n",
    "print(dev)"
   ]
  },
  {
   "cell_type": "code",
   "execution_count": 6,
   "metadata": {},
   "outputs": [
    {
     "data": {
      "text/plain": [
       "'DEVICE ID 0403:6014 on Bus 002 Address 003'"
      ]
     },
     "execution_count": 6,
     "metadata": {},
     "output_type": "execute_result"
    }
   ],
   "source": [
    "dev._str()"
   ]
  },
  {
   "cell_type": "markdown",
   "metadata": {},
   "source": [
    "### configuration"
   ]
  },
  {
   "cell_type": "code",
   "execution_count": 19,
   "metadata": {},
   "outputs": [
    {
     "name": "stdout",
     "output_type": "stream",
     "text": [
      "  CONFIGURATION 1: 500 mA ==================================\n",
      "   bLength              :    0x9 (9 bytes)\n",
      "   bDescriptorType      :    0x2 Configuration\n",
      "   wTotalLength         :   0x20 (32 bytes)\n",
      "   bNumInterfaces       :    0x1\n",
      "   bConfigurationValue  :    0x1\n",
      "   iConfiguration       :    0x0 \n",
      "   bmAttributes         :   0x80 Bus Powered\n",
      "   bMaxPower            :   0xfa (500 mA)\n",
      "    INTERFACE 0: Vendor Specific ===========================\n",
      "     bLength            :    0x9 (9 bytes)\n",
      "     bDescriptorType    :    0x4 Interface\n",
      "     bInterfaceNumber   :    0x0\n",
      "     bAlternateSetting  :    0x0\n",
      "     bNumEndpoints      :    0x2\n",
      "     bInterfaceClass    :   0xff Vendor Specific\n",
      "     bInterfaceSubClass :   0xff\n",
      "     bInterfaceProtocol :   0xff\n",
      "     iInterface         :    0x2 Single RS232-HS\n",
      "      ENDPOINT 0x81: Bulk IN ===============================\n",
      "       bLength          :    0x7 (7 bytes)\n",
      "       bDescriptorType  :    0x5 Endpoint\n",
      "       bEndpointAddress :   0x81 IN\n",
      "       bmAttributes     :    0x2 Bulk\n",
      "       wMaxPacketSize   :  0x200 (512 bytes)\n",
      "       bInterval        :    0x0\n",
      "      ENDPOINT 0x2: Bulk OUT ===============================\n",
      "       bLength          :    0x7 (7 bytes)\n",
      "       bDescriptorType  :    0x5 Endpoint\n",
      "       bEndpointAddress :    0x2 OUT\n",
      "       bmAttributes     :    0x2 Bulk\n",
      "       wMaxPacketSize   :  0x200 (512 bytes)\n",
      "       bInterval        :    0x0\n"
     ]
    }
   ],
   "source": [
    "dev = usb.core.find(idVendor=0x0403, idProduct=0x6014)  # FT232H\n",
    "# print(dev)\n",
    "\n",
    "# # set the active configuration. With no arguments, the first\n",
    "# # configuration will be the active one\n",
    "dev.set_configuration()\n",
    "\n",
    "# get an endpoint instance\n",
    "cfg = dev.get_active_configuration()\n",
    "print(cfg)"
   ]
  },
  {
   "cell_type": "markdown",
   "metadata": {},
   "source": [
    "### interface"
   ]
  },
  {
   "cell_type": "code",
   "execution_count": 20,
   "metadata": {},
   "outputs": [
    {
     "name": "stdout",
     "output_type": "stream",
     "text": [
      "    INTERFACE 0: Vendor Specific ===========================\n",
      "     bLength            :    0x9 (9 bytes)\n",
      "     bDescriptorType    :    0x4 Interface\n",
      "     bInterfaceNumber   :    0x0\n",
      "     bAlternateSetting  :    0x0\n",
      "     bNumEndpoints      :    0x2\n",
      "     bInterfaceClass    :   0xff Vendor Specific\n",
      "     bInterfaceSubClass :   0xff\n",
      "     bInterfaceProtocol :   0xff\n",
      "     iInterface         :    0x2 Single RS232-HS\n",
      "      ENDPOINT 0x81: Bulk IN ===============================\n",
      "       bLength          :    0x7 (7 bytes)\n",
      "       bDescriptorType  :    0x5 Endpoint\n",
      "       bEndpointAddress :   0x81 IN\n",
      "       bmAttributes     :    0x2 Bulk\n",
      "       wMaxPacketSize   :  0x200 (512 bytes)\n",
      "       bInterval        :    0x0\n",
      "      ENDPOINT 0x2: Bulk OUT ===============================\n",
      "       bLength          :    0x7 (7 bytes)\n",
      "       bDescriptorType  :    0x5 Endpoint\n",
      "       bEndpointAddress :    0x2 OUT\n",
      "       bmAttributes     :    0x2 Bulk\n",
      "       wMaxPacketSize   :  0x200 (512 bytes)\n",
      "       bInterval        :    0x0\n"
     ]
    }
   ],
   "source": [
    "intf = cfg[(0,0)]\n",
    "print(intf)"
   ]
  },
  {
   "cell_type": "markdown",
   "metadata": {},
   "source": [
    "### endpoint"
   ]
  },
  {
   "cell_type": "code",
   "execution_count": 21,
   "metadata": {},
   "outputs": [
    {
     "name": "stdout",
     "output_type": "stream",
     "text": [
      "      ENDPOINT 0x2: Bulk OUT ===============================\n",
      "       bLength          :    0x7 (7 bytes)\n",
      "       bDescriptorType  :    0x5 Endpoint\n",
      "       bEndpointAddress :    0x2 OUT\n",
      "       bmAttributes     :    0x2 Bulk\n",
      "       wMaxPacketSize   :  0x200 (512 bytes)\n",
      "       bInterval        :    0x0\n"
     ]
    }
   ],
   "source": [
    "ep = usb.util.find_descriptor(intf,  # match the first OUT endpoint\n",
    "                              custom_match = lambda e: usb.util.endpoint_direction(e.bEndpointAddress) == ENDPOINT.DIRECTION.OUT)\n",
    "\n",
    "print(ep)"
   ]
  },
  {
   "cell_type": "markdown",
   "metadata": {},
   "source": [
    "### Buld read/write to detect I2C address (using CH341)"
   ]
  },
  {
   "cell_type": "code",
   "execution_count": 22,
   "metadata": {},
   "outputs": [
    {
     "ename": "AttributeError",
     "evalue": "type object 'I2C' has no attribute 'STA'",
     "output_type": "error",
     "traceback": [
      "\u001b[0;31m---------------------------------------------------------------------------\u001b[0m",
      "\u001b[0;31mAttributeError\u001b[0m                            Traceback (most recent call last)",
      "\u001b[0;32m<ipython-input-22-532bfb28024a>\u001b[0m in \u001b[0;36m<module>\u001b[0;34m\u001b[0m\n\u001b[1;32m      1\u001b[0m \u001b[0;31m# detect I2C address\u001b[0m\u001b[0;34m\u001b[0m\u001b[0;34m\u001b[0m\u001b[0;34m\u001b[0m\u001b[0m\n\u001b[1;32m      2\u001b[0m \u001b[0maddr\u001b[0m \u001b[0;34m=\u001b[0m \u001b[0;36m120\u001b[0m\u001b[0;34m\u001b[0m\u001b[0;34m\u001b[0m\u001b[0m\n\u001b[0;32m----> 3\u001b[0;31m \u001b[0mcmd\u001b[0m \u001b[0;34m=\u001b[0m \u001b[0;34m[\u001b[0m\u001b[0mCH341\u001b[0m\u001b[0;34m.\u001b[0m\u001b[0mPORT\u001b[0m\u001b[0;34m.\u001b[0m\u001b[0mI2C\u001b[0m\u001b[0;34m,\u001b[0m \u001b[0mI2C\u001b[0m\u001b[0;34m.\u001b[0m\u001b[0mSTA\u001b[0m\u001b[0;34m,\u001b[0m \u001b[0mI2C\u001b[0m\u001b[0;34m.\u001b[0m\u001b[0mOUT\u001b[0m\u001b[0;34m,\u001b[0m \u001b[0maddr\u001b[0m\u001b[0;34m,\u001b[0m \u001b[0mI2C\u001b[0m\u001b[0;34m.\u001b[0m\u001b[0mSTO\u001b[0m\u001b[0;34m,\u001b[0m \u001b[0mI2C\u001b[0m\u001b[0;34m.\u001b[0m\u001b[0mEND\u001b[0m\u001b[0;34m]\u001b[0m\u001b[0;34m\u001b[0m\u001b[0;34m\u001b[0m\u001b[0m\n\u001b[0m\u001b[1;32m      4\u001b[0m \u001b[0mcmd\u001b[0m\u001b[0;34m\u001b[0m\u001b[0;34m\u001b[0m\u001b[0m\n",
      "\u001b[0;31mAttributeError\u001b[0m: type object 'I2C' has no attribute 'STA'"
     ]
    }
   ],
   "source": [
    "# detect I2C address\n",
    "addr = 120\n",
    "cmd = [CH341.PORT.I2C, I2C.STA, I2C.OUT, addr, I2C.STO, I2C.END]\n",
    "cmd"
   ]
  },
  {
   "cell_type": "code",
   "execution_count": 23,
   "metadata": {},
   "outputs": [
    {
     "ename": "NameError",
     "evalue": "name 'cmd' is not defined",
     "output_type": "error",
     "traceback": [
      "\u001b[0;31m---------------------------------------------------------------------------\u001b[0m",
      "\u001b[0;31mNameError\u001b[0m                                 Traceback (most recent call last)",
      "\u001b[0;32m<ipython-input-23-1b0fb0a1f1f2>\u001b[0m in \u001b[0;36m<module>\u001b[0;34m\u001b[0m\n\u001b[0;32m----> 1\u001b[0;31m \u001b[0mbuff\u001b[0m \u001b[0;34m=\u001b[0m \u001b[0musb\u001b[0m\u001b[0;34m.\u001b[0m\u001b[0m_interop\u001b[0m\u001b[0;34m.\u001b[0m\u001b[0mas_array\u001b[0m\u001b[0;34m(\u001b[0m\u001b[0mcmd\u001b[0m\u001b[0;34m)\u001b[0m\u001b[0;34m\u001b[0m\u001b[0;34m\u001b[0m\u001b[0m\n\u001b[0m\u001b[1;32m      2\u001b[0m \u001b[0mbuff\u001b[0m\u001b[0;34m\u001b[0m\u001b[0;34m\u001b[0m\u001b[0m\n",
      "\u001b[0;31mNameError\u001b[0m: name 'cmd' is not defined"
     ]
    }
   ],
   "source": [
    "buff = usb._interop.as_array(cmd)\n",
    "buff"
   ]
  },
  {
   "cell_type": "code",
   "execution_count": null,
   "metadata": {},
   "outputs": [],
   "source": [
    "count = dev.write(CH341.ENDPOINTS.BULK_OUT, cmd)\n",
    "count"
   ]
  },
  {
   "cell_type": "code",
   "execution_count": null,
   "metadata": {},
   "outputs": [],
   "source": [
    "value = dev.read(CH341.ENDPOINTS.BULK_IN, I2C.MAX)\n",
    "value"
   ]
  },
  {
   "cell_type": "code",
   "execution_count": null,
   "metadata": {},
   "outputs": [],
   "source": [
    "detected = not (value[0] & 0x80)\n",
    "detected"
   ]
  },
  {
   "cell_type": "code",
   "execution_count": null,
   "metadata": {},
   "outputs": [],
   "source": [
    "# dev = usb.core.find(idVendor=0xfffe, idProduct=0x0001)\n",
    "# if dev is None:\n",
    "#     raise ValueError('Our device is not connected')"
   ]
  },
  {
   "cell_type": "code",
   "execution_count": null,
   "metadata": {},
   "outputs": [],
   "source": [
    "# # actually this is not the whole history, keep reading\n",
    "# if usb.core.find(bDeviceClass = 7) is None:\n",
    "#     raise ValueError('No printer found')"
   ]
  },
  {
   "cell_type": "code",
   "execution_count": null,
   "metadata": {
    "scrolled": false
   },
   "outputs": [],
   "source": [
    "# USBdevice.scan(full = True)"
   ]
  },
  {
   "cell_type": "markdown",
   "metadata": {},
   "source": [
    "### 條件式 掃描 USB 裝置"
   ]
  },
  {
   "cell_type": "code",
   "execution_count": null,
   "metadata": {},
   "outputs": [],
   "source": [
    "import usb.core\n",
    "import usb.util\n",
    "import sys\n",
    "\n",
    "class find_class(object):\n",
    "    def __init__(self, class_):\n",
    "        self._class = class_\n",
    "    def __call__(self, device):\n",
    "        # first, let's check the device\n",
    "        if device.bDeviceClass == self._class:\n",
    "            return True\n",
    "        # ok, transverse all devices to find an\n",
    "        # interface that matches our class\n",
    "        for cfg in device:\n",
    "            # find_descriptor: what's it?\n",
    "            intf = usb.util.find_descriptor(cfg,\n",
    "                                            bInterfaceClass = self._class)\n",
    "            if intf is not None:\n",
    "                return True\n",
    "\n",
    "        return False\n",
    "\n",
    "devices = usb.core.find(find_all=1, custom_match=find_class(255))\n",
    "list(devices)"
   ]
  },
  {
   "cell_type": "markdown",
   "metadata": {},
   "source": [
    "### configuration"
   ]
  },
  {
   "cell_type": "code",
   "execution_count": null,
   "metadata": {},
   "outputs": [],
   "source": [
    "for cfg in dev:\n",
    "    print(cfg.bConfigurationValue)"
   ]
  },
  {
   "cell_type": "code",
   "execution_count": null,
   "metadata": {},
   "outputs": [],
   "source": [
    "# access the second configuration\n",
    "dev.set_configuration()"
   ]
  },
  {
   "cell_type": "code",
   "execution_count": null,
   "metadata": {},
   "outputs": [],
   "source": [
    "cfg = dev[0]\n",
    "cfg.__dict__"
   ]
  },
  {
   "cell_type": "markdown",
   "metadata": {},
   "source": [
    "### interface"
   ]
  },
  {
   "cell_type": "code",
   "execution_count": null,
   "metadata": {},
   "outputs": [],
   "source": [
    "# access the first interface\n",
    "intf = cfg[(0,0)]\n",
    "intf.__dict__"
   ]
  },
  {
   "cell_type": "code",
   "execution_count": null,
   "metadata": {},
   "outputs": [],
   "source": [
    "print(intf)"
   ]
  },
  {
   "cell_type": "markdown",
   "metadata": {},
   "source": [
    "### endpoint"
   ]
  },
  {
   "cell_type": "code",
   "execution_count": null,
   "metadata": {},
   "outputs": [],
   "source": [
    "# third endpoint\n",
    "ep = intf[0] \n",
    "ep.__dict__"
   ]
  },
  {
   "cell_type": "code",
   "execution_count": null,
   "metadata": {},
   "outputs": [],
   "source": [
    "print(ep)"
   ]
  },
  {
   "cell_type": "code",
   "execution_count": null,
   "metadata": {},
   "outputs": [],
   "source": [
    "ep._str()"
   ]
  },
  {
   "cell_type": "code",
   "execution_count": null,
   "metadata": {},
   "outputs": [],
   "source": [
    "# >>> msg = 'test'\n",
    "# >>> assert dev.ctrl_transfer(0x40, CTRL_LOOPBACK_WRITE, 0, 0, msg) == len(msg)\n",
    "# >>> ret = dev.ctrl_transfer(0xC0, CTRL_LOOPBACK_READ, 0, 0, len(msg))\n",
    "# >>> sret = ''.join([chr(x) for x in ret])\n",
    "# >>> assert sret == msg"
   ]
  },
  {
   "cell_type": "markdown",
   "metadata": {},
   "source": [
    "### Release resources"
   ]
  },
  {
   "cell_type": "code",
   "execution_count": null,
   "metadata": {},
   "outputs": [],
   "source": [
    "usb.util.release_interface(dev, intf)"
   ]
  },
  {
   "cell_type": "code",
   "execution_count": null,
   "metadata": {},
   "outputs": [],
   "source": [
    "usb.util.dispose_resources(dev)"
   ]
  },
  {
   "cell_type": "code",
   "execution_count": null,
   "metadata": {},
   "outputs": [],
   "source": [
    "# dev.reset()"
   ]
  },
  {
   "cell_type": "code",
   "execution_count": null,
   "metadata": {},
   "outputs": [],
   "source": [
    "import usb.util\n",
    "\n",
    "alt = usb.util.find_descriptor(cfg, find_all=True, bInterfaceNumber = 0x00, bAlternateSetting = 0x00)\n",
    "list(alt)"
   ]
  },
  {
   "cell_type": "markdown",
   "metadata": {},
   "source": [
    "### set_configuration"
   ]
  },
  {
   "cell_type": "code",
   "execution_count": null,
   "metadata": {},
   "outputs": [],
   "source": [
    "dev.set_configuration(1)"
   ]
  },
  {
   "cell_type": "code",
   "execution_count": null,
   "metadata": {},
   "outputs": [],
   "source": [
    "# or\n",
    "dev.set_configuration() # we assume the configuration 5 is the first one"
   ]
  },
  {
   "cell_type": "code",
   "execution_count": null,
   "metadata": {},
   "outputs": [],
   "source": [
    "dev.get_active_configuration()"
   ]
  },
  {
   "cell_type": "code",
   "execution_count": null,
   "metadata": {},
   "outputs": [],
   "source": [
    "# or\n",
    "cfg = usb.util.find_descriptor(dev, bConfigurationValue=1)\n",
    "cfg.set()"
   ]
  },
  {
   "cell_type": "code",
   "execution_count": null,
   "metadata": {},
   "outputs": [],
   "source": [
    "# or\n",
    "cfg = usb.util.find_descriptor(dev, bConfigurationValue = 0x01)\n",
    "dev.set_configuration(cfg)"
   ]
  },
  {
   "cell_type": "markdown",
   "metadata": {},
   "source": [
    "### set alternative interface"
   ]
  },
  {
   "cell_type": "code",
   "execution_count": null,
   "metadata": {},
   "outputs": [],
   "source": [
    "dev.set_interface_altsetting(interface = 0, alternate_setting = 0)"
   ]
  },
  {
   "cell_type": "code",
   "execution_count": null,
   "metadata": {},
   "outputs": [],
   "source": [
    "usb.util.dispose_resources(dev)"
   ]
  }
 ],
 "metadata": {
  "kernelspec": {
   "display_name": "Python 3",
   "language": "python",
   "name": "python3"
  },
  "language_info": {
   "codemirror_mode": {
    "name": "ipython",
    "version": 3
   },
   "file_extension": ".py",
   "mimetype": "text/x-python",
   "name": "python",
   "nbconvert_exporter": "python",
   "pygments_lexer": "ipython3",
   "version": "3.6.8"
  }
 },
 "nbformat": 4,
 "nbformat_minor": 2
}
